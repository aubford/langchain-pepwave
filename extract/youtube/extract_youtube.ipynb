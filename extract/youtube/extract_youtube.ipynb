{
 "cells": [
  {
   "cell_type": "code",
   "id": "17e0e80b6c3e1d49",
   "metadata": {},
   "source": [
    "from extract.youtube.youtube_extractor import YouTubeExtractor\n",
    "from config import config\n",
    "\n",
    "\n",
    "class YouTubeExtractorManager:\n",
    "    def __init__(self, _config, channels):\n",
    "        self.extractors = [\n",
    "            YouTubeExtractor(_config, channel)\n",
    "            for channel in channels\n",
    "        ]\n",
    "\n",
    "    def fetch_all(self):\n",
    "        for extractor in self.extractors:\n",
    "            extractor.get_uploads_playlist_id()\n",
    "            extractor.fetch_videos_with_transcripts()\n",
    "            self.extractors.remove(extractor)\n"
   ],
   "outputs": [],
   "execution_count": null
  },
  {
   "cell_type": "code",
   "id": "f3b2cac812fc077b",
   "metadata": {},
   "source": [
    "\n",
    "fg_store = YouTubeExtractor(config, '@5Gstore')\n",
    "fg_store.get_uploads_playlist_id()\n",
    "fg_store.fetch_videos_with_transcripts()\n"
   ],
   "outputs": [],
   "execution_count": null
  },
  {
   "cell_type": "code",
   "id": "9b102d391f78237f",
   "metadata": {},
   "source": [
    "\n",
    "manager = YouTubeExtractorManager(config, ['@MobileInternetResourceCenter', '@Frontierus', '@MobileMustHave', '@Technorv'])\n",
    "manager.fetch_all()\n"
   ],
   "outputs": [],
   "execution_count": null
  },
  {
   "cell_type": "code",
   "id": "d22d1b40cdac8366",
   "metadata": {},
   "source": [
    "print(manager.extractors)\n",
    "manager.fetch_all()\n"
   ],
   "outputs": [],
   "execution_count": null
  }
 ],
 "metadata": {
  "kernelspec": {
   "display_name": "Python 3 (ipykernel)",
   "language": "python",
   "name": "python3"
  },
  "language_info": {
   "codemirror_mode": {
    "name": "ipython",
    "version": 3
   },
   "file_extension": ".py",
   "mimetype": "text/x-python",
   "name": "python",
   "nbconvert_exporter": "python",
   "pygments_lexer": "ipython3",
   "version": "3.12.2"
  }
 },
 "nbformat": 5,
 "nbformat_minor": 9
}
