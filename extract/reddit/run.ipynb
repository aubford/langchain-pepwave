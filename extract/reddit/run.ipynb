{
 "cells": [
  {
   "cell_type": "code",
   "id": "d6f66224eb0fbc30",
   "metadata": {},
   "source": [
    "from extract.reddit.reddit_extractor import RedditPostExtractor\n",
    "\n",
    "\n",
    "pep_extractor = RedditPostExtractor('Peplink')\n",
    "pep_extractor.extract()\n"
   ],
   "outputs": [],
   "execution_count": null
  },
  {
   "cell_type": "code",
   "id": "eab4f4a0176b2550",
   "metadata": {},
   "source": [
    "\n",
    "net_extractor = RedditPostExtractor('networking')\n",
    "net_extractor.extract()\n"
   ],
   "outputs": [],
   "execution_count": null
  },
  {
   "cell_type": "code",
   "id": "72fbee518a3b7fa3",
   "metadata": {},
   "source": [
    "\n",
    "sys_extractor = RedditPostExtractor('sysadmin')\n",
    "sys_extractor.extract()\n"
   ],
   "outputs": [],
   "execution_count": null
  }
 ],
 "metadata": {
  "kernelspec": {
   "display_name": "langchain_pepwave_env",
   "language": "python",
   "name": "python3"
  },
  "language_info": {
   "codemirror_mode": {
    "name": "ipython",
    "version": 3
   },
   "file_extension": ".py",
   "mimetype": "text/x-python",
   "name": "python",
   "nbconvert_exporter": "python",
   "pygments_lexer": "ipython3",
   "version": "3.12.2"
  }
 },
 "nbformat": 5,
 "nbformat_minor": 9
}
