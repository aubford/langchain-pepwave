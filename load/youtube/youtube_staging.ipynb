{
 "cells": [
  {
   "cell_type": "code",
   "execution_count": 4,
   "id": "3ae43d6edc83fe50",
   "metadata": {},
   "outputs": [
    {
     "name": "stdout",
     "output_type": "stream",
     "text": [
      "(2589, 14)\n",
      "(4769, 14)\n"
     ]
    }
   ],
   "source": [
    "import pandas as pd\n",
    "from pathlib import Path\n",
    "\n",
    "staging__save_path = Path(\"staging_save.parquet\")\n",
    "staging_path = Path(\"staging.parquet\")\n",
    "df = pd.read_parquet(staging_path)\n",
    "df_save = pd.read_parquet(staging__save_path)\n",
    "unique_sources = df[\"source_file\"].unique()\n",
    "unique_sources_save = df_save[\"source_file\"].unique()\n",
    "\n",
    "print(df.shape)\n",
    "print(df_save.shape)\n"
   ]
  },
  {
   "cell_type": "code",
   "execution_count": null,
   "id": "20718de0aa2fbc5b",
   "metadata": {},
   "outputs": [],
   "source": [
    "print(\"------------------------------------\")\n",
    "print(\"\\nUnique source files:\")\n",
    "for source in unique_sources:\n",
    "  print(f\"- {source}\")\n",
    "\n",
    "print(\"------------------------------------\")\n",
    "print(f\"Number of records in staging.parquet: {len(df)}\")\n"
   ]
  },
  {
   "cell_type": "code",
   "execution_count": null,
   "id": "80b22551a0f4afa6",
   "metadata": {},
   "outputs": [],
   "source": [
    "print(len(df))\n",
    "print(len(df[\"date\"].unique()))\n"
   ]
  },
  {
   "cell_type": "code",
   "execution_count": null,
   "id": "ab1de0245b2ee527",
   "metadata": {},
   "outputs": [],
   "source": [
    "from load.youtube.youtube_load import YoutubeLoad\n",
    "\n",
    "loader = YoutubeLoad()\n",
    "loader.staging_to_vector_store()\n"
   ]
  }
 ],
 "metadata": {
  "kernelspec": {
   "display_name": "Python 3 (ipykernel)",
   "language": "python",
   "name": "python3"
  },
  "language_info": {
   "codemirror_mode": {
    "name": "ipython",
    "version": 3
   },
   "file_extension": ".py",
   "mimetype": "text/x-python",
   "name": "python",
   "nbconvert_exporter": "python",
   "pygments_lexer": "ipython3",
   "version": "3.12.2"
  }
 },
 "nbformat": 5,
 "nbformat_minor": 9
}
