{
 "cells": [
  {
   "cell_type": "code",
   "id": "17e0e80b6c3e1d49",
   "metadata": {},
   "source": [
    "from extract import YouTubeExtractor\n",
    "from config import config\n",
    "\n",
    "\n",
    "fg_store = YouTubeExtractor('@5Gstore', config)\n",
    "uploads_playlist_id = fg_store.get_uploads_playlist_id()\n",
    "print(uploads_playlist_id)\n"
   ],
   "outputs": [],
   "execution_count": null
  },
  {
   "cell_type": "code",
   "id": "f3b2cac812fc077b",
   "metadata": {},
   "source": [
    "\n",
    "fg_store.fetch_videos_with_transcripts()\n"
   ],
   "outputs": [],
   "execution_count": null
  },
  {
   "cell_type": "code",
   "id": "9b102d391f78237f",
   "metadata": {},
   "source": [
    "\n",
    "# mirc = YouTubeExtractor('@MobileInternetResourceCenter')\n",
    "# frontier_us = YouTubeExtractor('@Frontierus')\n",
    "# mobile_must_have = YouTubeExtractor('@MobileMustHave')\n",
    "# techno_rv = YouTubeExtractor('@Technorv')\n"
   ],
   "outputs": [],
   "execution_count": null
  }
 ],
 "metadata": {
  "kernelspec": {
   "display_name": "Python 3 (ipykernel)",
   "language": "python",
   "name": "python3"
  },
  "language_info": {
   "codemirror_mode": {
    "name": "ipython",
    "version": 3
   },
   "file_extension": ".py",
   "mimetype": "text/x-python",
   "name": "python",
   "nbconvert_exporter": "python",
   "pygments_lexer": "ipython3",
   "version": "3.12.2"
  }
 },
 "nbformat": 5,
 "nbformat_minor": 9
}
