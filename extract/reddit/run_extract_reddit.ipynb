{
 "cells": [
  {
   "cell_type": "code",
   "id": "d6f66224eb0fbc30",
   "metadata": {
    "ExecuteTime": {
     "end_time": "2024-12-29T03:08:16.433222Z",
     "start_time": "2024-12-29T02:58:20.014455Z"
    }
   },
   "source": [
    "from extract.reddit.reddit_extractor import RedditPostExtractor\n",
    "\n",
    "\n",
    "pep_extractor = RedditPostExtractor('Peplink')\n",
    "pep_extractor.extract()\n"
   ],
   "outputs": [
    {
     "name": "stdout",
     "output_type": "stream",
     "text": [
      "2024-12-28 21:58:20,549 - reddit - INFO - Started stream for ldoc_Peplink:\n",
      "Raw: data/reddit/raw/reddit_ldoc_Peplink__T_20241228_215820.jsonl\n",
      "Ended stream for ldoc_Peplink\n"
     ]
    }
   ],
   "execution_count": 1
  },
  {
   "cell_type": "code",
   "id": "eab4f4a0176b2550",
   "metadata": {
    "jupyter": {
     "is_executing": true
    },
    "ExecuteTime": {
     "start_time": "2024-12-29T13:51:48.195254Z"
    }
   },
   "source": [
    "from extract.reddit.reddit_extractor import RedditPostExtractor\n",
    "\n",
    "net_extractor = RedditPostExtractor('networking')\n",
    "net_extractor.extract()\n"
   ],
   "outputs": [
    {
     "name": "stdout",
     "output_type": "stream",
     "text": [
      "2024-12-29 08:51:49,049 - reddit - INFO - Started stream for ldoc_networking:\n",
      "Raw: data/reddit/raw/reddit_ldoc_networking__T_20241229_085149.jsonl\n"
     ]
    }
   ],
   "execution_count": null
  },
  {
   "cell_type": "code",
   "id": "72fbee518a3b7fa3",
   "metadata": {},
   "source": [
    "from extract.reddit.reddit_extractor import RedditPostExtractor\n",
    "\n",
    "sys_extractor = RedditPostExtractor('sysadmin')\n",
    "sys_extractor.extract()\n"
   ],
   "outputs": [],
   "execution_count": null
  }
 ],
 "metadata": {
  "kernelspec": {
   "display_name": "langchain_pepwave_env",
   "language": "python",
   "name": "python3"
  },
  "language_info": {
   "codemirror_mode": {
    "name": "ipython",
    "version": 3
   },
   "file_extension": ".py",
   "mimetype": "text/x-python",
   "name": "python",
   "nbconvert_exporter": "python",
   "pygments_lexer": "ipython3",
   "version": "3.12.2"
  }
 },
 "nbformat": 5,
 "nbformat_minor": 9
}
