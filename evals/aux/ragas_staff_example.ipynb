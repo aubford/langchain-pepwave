{
 "cells": [
  {
   "cell_type": "code",
   "execution_count": 32,
   "id": "e26d0b65-c577-4790-b671-c7ecf441bc4c",
   "metadata": {},
   "outputs": [],
   "source": [
    "import instructor\n",
    "from openai import OpenAI, AsyncOpenAI\n",
    "from pydantic import BaseModel\n",
    "import numpy as np\n"
   ]
  },
  {
   "cell_type": "code",
   "execution_count": 5,
   "id": "e8a895ef",
   "metadata": {},
   "outputs": [
    {
     "data": {
      "text/plain": [
       "True"
      ]
     },
     "execution_count": 5,
     "metadata": {},
     "output_type": "execute_result"
    }
   ],
   "source": [
    "from dotenv import load_dotenv\n",
    "import os\n",
    "\n",
    "# Load environment variables from a .env file\n",
    "load_dotenv(\"../.envrc\")\n"
   ]
  },
  {
   "cell_type": "code",
   "execution_count": 6,
   "id": "8aaf33ff-519a-468f-a52d-cc726a4f4f0f",
   "metadata": {},
   "outputs": [],
   "source": [
    "# Patch the OpenAI client\n",
    "openai_client = OpenAI()\n",
    "client = instructor.from_openai(AsyncOpenAI())\n"
   ]
  },
  {
   "cell_type": "markdown",
   "id": "6f27ae7b",
   "metadata": {},
   "source": [
    "### Load documents\n"
   ]
  },
  {
   "cell_type": "code",
   "execution_count": 12,
   "id": "1f8ed9e8",
   "metadata": {},
   "outputs": [
    {
     "name": "stdout",
     "output_type": "stream",
     "text": [
      "/Users/shahules/Downloads/aubford\n"
     ]
    }
   ],
   "source": [
    "! realpath ~/Downloads/aubford/\n"
   ]
  },
  {
   "cell_type": "code",
   "execution_count": 13,
   "id": "f67f4e50-54fd-43a4-b750-ec2a6ea80351",
   "metadata": {},
   "outputs": [],
   "source": [
    "import os\n",
    "\n",
    "# Define the folder path\n",
    "folder_path = \"/Users/shahules/Downloads/aubford\"\n",
    "\n",
    "# List all files in the folder\n",
    "files = os.listdir(folder_path)\n",
    "\n",
    "# Read each text file in the folder\n",
    "texts = []\n",
    "for file_name in files:\n",
    "    if file_name.endswith(\".txt\"):\n",
    "        with open(os.path.join(folder_path, file_name), \"r\") as file:\n",
    "            texts.append(file.read())\n"
   ]
  },
  {
   "cell_type": "code",
   "execution_count": 14,
   "id": "bc518910",
   "metadata": {},
   "outputs": [
    {
     "data": {
      "text/plain": [
       "'## Pepwave Forum Topic: Starlink and Peplink Balance\\n\\nI have recently joined Starlink\\'s beta program.  They don\\'t disclose any of their networking details.  They allow you to hook into their wifi router with a network out, but I found it was both unstable and had poor performance.\\n\\nI have managed to connect the Starlink dish to one of my WAN ports in DHCP/NAT mode, with an automatic DNS.  I have a second provider with the same settings.\\n\\nIt works great, however in order to use the management app, I believe need to be able to pass through 192.168.100.1 to WAN1 to allow a LAN client to manage the dish.  I have tried just about all of the Peplink balance settings to do so, an outbound policy to all WANs, adding 192.168.100.1 as an additional IP and pushing all traffic to that IP as a NAT rule, adding a firewall rule, and an management admin.  I was trying to get this 192.168.100.1 IP setup to pass through to the WAN1 gateway, but didn\\'t manage to get that working either.\\n\\nI cannot ping the 192.168.100.1 address, except when the dish initially boots up, they must hide it from ping.\\n\\nAny suggestions?\\n\\n ## Comment:\\n\\nReviving this older thread as I just received my Starlink terminal.\\n\\nI am running the OOB management via a Juniper SRX connected via an Access VLAN, similar to my previous tests with the DSL modem.    This works fine, and I may continue with this configuration to test and provide IPv6 via the SRX.\\n\\nI also wanted to test a second WAN interface for the OOB managment, but my generic 1G switch was dead.\\n\\n ## Replies:\\n\\n<reply>\\n[quote=\"Paul_Mossip, post:21, topic:32297\"]\\nI may continue with this configuration to test and provide IPv6 via the SRX.\\n[/quote]\\n\\nSlightly off topic but how are Starlink handing out IPv6 to subscribers, is it DHCPv6 with a delegated prefix?  If so what size are they delegating - details seem a bit thin on the ground for this :slight_smile:\\n  <reply>\\nIt is supposed to be a DHCPv6 with PD... but those that have seen it say that the route goes away after 20 mins.. or when any type of \"interruption\" happens in the link...\\n\\nI have yet to get a reply packet back to my SRX.. so I may have to try some other technologies.. pfsense seems to be on the list.   Clearly not fully supported.\\n\\n10:00:48.178956 Out 64:87:88:1d:42:08 > 33:33:00:01:00:02, ethertype 802.1Q (0x8100), length 122: vlan 1, p 6, ethertype IPv6, (hlim 255, next-header: UDP (17), length: 64) fe80::6687:88ff:fe1d:4208.dhcpv6-client > ff02::1:2.dhcpv6-server: [udp sum ok] dhcp6 solicit(C cliaddr=1:a:3:1:6487:881d:4d08:19 relayaddr=c::ffff:ffff:ffff:ffff:3)\\n  </reply>\\n</reply>\\n\\n\\n## Tags: starlink, management, app\\n'"
      ]
     },
     "execution_count": 14,
     "metadata": {},
     "output_type": "execute_result"
    }
   ],
   "source": [
    "texts[0]\n"
   ]
  },
  {
   "cell_type": "markdown",
   "id": "8ddd7fd9",
   "metadata": {},
   "source": [
    "## Generate personas\n"
   ]
  },
  {
   "cell_type": "code",
   "execution_count": 21,
   "id": "dc249678",
   "metadata": {},
   "outputs": [],
   "source": [
    "class Persona(BaseModel):\n",
    "    role: str\n",
    "    description: str\n",
    "\n",
    "\n",
    "async def get_persona(text: str):\n",
    "    prompt = f\"\"\"\n",
    "    Given the following text, write a persona that may interact with it.\n",
    "    Text: {text}\n",
    "    \"\"\"\n",
    "\n",
    "    resp = await client.chat.completions.create(\n",
    "        model=\"gpt-4o-mini\",\n",
    "        response_model=Persona,\n",
    "        messages=[\n",
    "            {\"role\": \"system\", \"content\": \"Your are expert evaluator\"},\n",
    "            {\"role\": \"user\", \"content\": prompt},\n",
    "        ],\n",
    "    )\n",
    "    return resp\n"
   ]
  },
  {
   "cell_type": "code",
   "execution_count": 22,
   "id": "4d349524",
   "metadata": {},
   "outputs": [
    {
     "data": {
      "text/plain": [
       "Persona(role='Technical Network Engineer', description='A professional specializing in network configurations and troubleshooting, particularly with experience in WAN setups and integrating satellite internet systems like Starlink with networking hardware such as Peplink Balance and Juniper SRX. This individual actively participates in technical forums to share knowledge, solve problems, and seek advice on complex network-related issues.')"
      ]
     },
     "execution_count": 22,
     "metadata": {},
     "output_type": "execute_result"
    }
   ],
   "source": [
    "await get_persona(text=texts[0])\n"
   ]
  },
  {
   "metadata": {},
   "cell_type": "markdown",
   "source": "",
   "id": "b3a4374d76f32ce"
  },
  {
   "cell_type": "markdown",
   "id": "8b5fffdd",
   "metadata": {},
   "source": [
    "### Generate a query per text\n"
   ]
  },
  {
   "cell_type": "code",
   "execution_count": 33,
   "id": "00c73f98",
   "metadata": {},
   "outputs": [],
   "source": [
    "class Query(BaseModel):\n",
    "    question: str\n",
    "\n",
    "\n",
    "class Input(BaseModel):\n",
    "    text: str\n",
    "    persona: Persona\n",
    "\n",
    "\n",
    "async def generate_query(text: str):\n",
    "\n",
    "    persona = await get_persona(text=text)\n",
    "    query_length = np.random.choice([\"short\", \"medium\", \"long\"])\n",
    "\n",
    "    prompt = f\"\"\"\n",
    "    Given the following text and a persona, write a query that the persona may ask.\n",
    "    Persona: {persona}\n",
    "    query length: {query_length}\n",
    "    Text: {text}\n",
    "    \"\"\"\n",
    "\n",
    "    resp = await client.chat.completions.create(\n",
    "        model=\"gpt-4o-mini\",\n",
    "        response_model=Query,\n",
    "        messages=[\n",
    "            {\n",
    "                \"role\": \"system\",\n",
    "                \"content\": \"Imagine you're the persona described by the user.\",\n",
    "            },\n",
    "            {\"role\": \"user\", \"content\": prompt},\n",
    "        ],\n",
    "    )\n",
    "    return resp\n"
   ]
  },
  {
   "cell_type": "markdown",
   "id": "0c219a01",
   "metadata": {},
   "source": [
    "## Test generations\n"
   ]
  },
  {
   "cell_type": "code",
   "execution_count": 34,
   "id": "eab8375a",
   "metadata": {},
   "outputs": [
    {
     "data": {
      "text/plain": [
       "Query(question='What are the recommended outbound policy settings for a Peplink Balance 20 to optimize internet connectivity?')"
      ]
     },
     "execution_count": 34,
     "metadata": {},
     "output_type": "execute_result"
    }
   ],
   "source": [
    "await generate_query(text=texts[1])\n"
   ]
  },
  {
   "cell_type": "code",
   "execution_count": null,
   "id": "1f132703",
   "metadata": {},
   "outputs": [],
   "source": []
  }
 ],
 "metadata": {
  "kernelspec": {
   "display_name": "ragas",
   "language": "python",
   "name": "python3"
  },
  "language_info": {
   "codemirror_mode": {
    "name": "ipython",
    "version": 3
   },
   "file_extension": ".py",
   "mimetype": "text/x-python",
   "name": "python",
   "nbconvert_exporter": "python",
   "pygments_lexer": "ipython3",
   "version": "3.9.20"
  }
 },
 "nbformat": 4,
 "nbformat_minor": 5
}
