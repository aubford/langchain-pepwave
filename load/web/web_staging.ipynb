{
 "cells": [
  {
   "cell_type": "code",
   "id": "3ae43d6edc83fe50",
   "metadata": {
    "ExecuteTime": {
     "end_time": "2024-12-31T02:14:53.626877Z",
     "start_time": "2024-12-31T02:14:53.379743Z"
    }
   },
   "source": [
    "import pandas as pd\n",
    "from pathlib import Path\n",
    "\n",
    "staging_path = Path(\"staging.parquet\")\n",
    "df = pd.read_parquet(staging_path)\n",
    "print(len(df))\n",
    "unique_sources = df[\"source_file\"].unique()\n",
    "\n",
    "count = df.shape[0]\n",
    "print(f\"total entries: {count}\")\n",
    "print(df.shape)\n"
   ],
   "outputs": [
    {
     "name": "stdout",
     "output_type": "stream",
     "text": [
      "4856\n",
      "total entries: 4856\n",
      "(4856, 7)\n"
     ]
    }
   ],
   "execution_count": 1
  }
 ],
 "metadata": {
  "kernelspec": {
   "display_name": "Python 3 (ipykernel)",
   "language": "python",
   "name": "python3"
  },
  "language_info": {
   "codemirror_mode": {
    "name": "ipython",
    "version": 3
   },
   "file_extension": ".py",
   "mimetype": "text/x-python",
   "name": "python",
   "nbconvert_exporter": "python",
   "pygments_lexer": "ipython3",
   "version": "3.12.2"
  }
 },
 "nbformat": 5,
 "nbformat_minor": 9
}
