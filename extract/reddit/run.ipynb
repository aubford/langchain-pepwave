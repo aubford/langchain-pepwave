{
 "cells": [
  {
   "cell_type": "code",
   "execution_count": 1,
   "id": "d6f66224eb0fbc30",
   "metadata": {
    "ExecuteTime": {
     "end_time": "2024-12-19T03:49:59.565682Z",
     "start_time": "2024-12-19T03:44:55.327013Z"
    }
   },
   "outputs": [
    {
     "name": "stdout",
     "output_type": "stream",
     "text": [
      "2024-12-18 23:10:28,464 - reddit - INFO - Started stream for ldoc_Peplink:\n",
      "Raw: data/reddit/raw/reddit_ldoc_Peplink__T_20241218_231028.jsonl\n",
      "Ended stream for ldoc_Peplink\n"
     ]
    }
   ],
   "source": [
    "from extract.reddit.reddit_extractor import RedditPostExtractor\n",
    "\n",
    "\n",
    "pep_extractor = RedditPostExtractor('Peplink')\n",
    "pep_extractor.extract()\n"
   ]
  },
  {
   "cell_type": "code",
   "execution_count": 2,
   "id": "eab4f4a0176b2550",
   "metadata": {},
   "outputs": [
    {
     "name": "stdout",
     "output_type": "stream",
     "text": [
      "2024-12-18 23:29:45,773 - reddit - INFO - Started stream for ldoc_networking:\n",
      "Raw: data/reddit/raw/reddit_ldoc_networking__T_20241218_232945.jsonl\n",
      "Ended stream for ldoc_networking\n"
     ]
    }
   ],
   "source": [
    "\n",
    "net_extractor = RedditPostExtractor('networking')\n",
    "net_extractor.extract()\n"
   ]
  },
  {
   "cell_type": "code",
   "execution_count": 3,
   "id": "72fbee518a3b7fa3",
   "metadata": {},
   "outputs": [
    {
     "name": "stdout",
     "output_type": "stream",
     "text": [
      "2024-12-19 11:39:13,340 - reddit - INFO - Started stream for ldoc_sysadmin:\n",
      "Raw: data/reddit/raw/reddit_ldoc_sysadmin__T_20241219_113913.jsonl\n"
     ]
    }
   ],
   "source": [
    "\n",
    "sys_extractor = RedditPostExtractor('sysadmin')\n",
    "sys_extractor.extract()\n"
   ]
  }
 ],
 "metadata": {
  "kernelspec": {
   "display_name": "langchain_pepwave_env",
   "language": "python",
   "name": "python3"
  },
  "language_info": {
   "codemirror_mode": {
    "name": "ipython",
    "version": 3
   },
   "file_extension": ".py",
   "mimetype": "text/x-python",
   "name": "python",
   "nbconvert_exporter": "python",
   "pygments_lexer": "ipython3",
   "version": "3.12.2"
  }
 },
 "nbformat": 5,
 "nbformat_minor": 9
}
