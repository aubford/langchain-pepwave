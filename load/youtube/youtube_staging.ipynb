{
 "cells": [
  {
   "cell_type": "code",
   "id": "3ae43d6edc83fe50",
   "metadata": {},
   "source": [
    "import pandas as pd\n",
    "from pathlib import Path\n",
    "\n",
    "staging_path = Path(\"staging.parquet\")\n",
    "df = pd.read_parquet(staging_path)\n",
    "print(len(df))\n",
    "unique_sources = df[\"source_file\"].unique()\n",
    "mobile_musthaves = df[df[\"source_file\"] == \"youtube_video_item_MobileMustHave__T_20241216_083331\"]\n",
    "\n",
    "count = df.shape[0]\n",
    "print(f\"total entries: {count}\")\n",
    "print(df.shape)\n"
   ],
   "outputs": [],
   "execution_count": null
  },
  {
   "cell_type": "code",
   "id": "20718de0aa2fbc5b",
   "metadata": {},
   "source": [
    "print(\"------------------------------------\")\n",
    "print(\"\\nUnique source files:\")\n",
    "for source in unique_sources:\n",
    "  print(f\"- {source}\")\n",
    "\n",
    "print(\"------------------------------------\")\n",
    "print(f\"Number of records in staging.parquet: {len(df)}\")\n"
   ],
   "outputs": [],
   "execution_count": null
  },
  {
   "cell_type": "code",
   "id": "1fbf9c5d494c7b7f",
   "metadata": {},
   "source": [
    "print(len(mobile_musthaves['title'].unique()))\n"
   ],
   "outputs": [],
   "execution_count": null
  },
  {
   "cell_type": "code",
   "id": "80b22551a0f4afa6",
   "metadata": {},
   "source": [
    "print(len(df))\n",
    "print(len(df[\"date\"].unique()))\n"
   ],
   "outputs": [],
   "execution_count": null
  },
  {
   "metadata": {},
   "cell_type": "code",
   "source": [
    "from load.youtube.youtube_load import YoutubeLoad\n",
    "\n",
    "loader = YoutubeLoad()\n",
    "loader.staging_to_vector_store()"
   ],
   "id": "ab1de0245b2ee527",
   "outputs": [],
   "execution_count": null
  }
 ],
 "metadata": {
  "kernelspec": {
   "display_name": "Python 3 (ipykernel)",
   "language": "python",
   "name": "python3"
  },
  "language_info": {
   "codemirror_mode": {
    "name": "ipython",
    "version": 3
   },
   "file_extension": ".py",
   "mimetype": "text/x-python",
   "name": "python",
   "nbconvert_exporter": "python",
   "pygments_lexer": "ipython3",
   "version": "3.12.2"
  }
 },
 "nbformat": 5,
 "nbformat_minor": 9
}
