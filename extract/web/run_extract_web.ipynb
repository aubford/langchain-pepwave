{
 "cells": [
  {
   "cell_type": "markdown",
   "id": "86f2acec",
   "metadata": {},
   "source": [
    "## Martin Langmaid"
   ]
  },
  {
   "cell_type": "code",
   "execution_count": null,
   "id": "3837cc10779cb8da",
   "metadata": {
    "ExecuteTime": {
     "end_time": "2024-12-29T02:36:17.599313Z",
     "start_time": "2024-12-29T02:35:06.980435Z"
    }
   },
   "outputs": [],
   "source": [
    "from extract.web.web_extractor import WebsiteExtractor\n",
    "extractor = WebsiteExtractor(\"https://www.martinlangmaid.com/2014/12/15/managing-multiple-wan-links-peplink-routers\")\n",
    "extractor.extract()\n"
   ]
  },
  {
   "cell_type": "markdown",
   "id": "06ee8834",
   "metadata": {},
   "source": [
    "### Introspect Result"
   ]
  },
  {
   "cell_type": "code",
   "execution_count": null,
   "id": "092bdb82",
   "metadata": {
    "ExecuteTime": {
     "end_time": "2024-12-29T00:37:19.990470Z",
     "start_time": "2024-12-29T00:37:19.497338Z"
    }
   },
   "outputs": [],
   "source": [
    "from util.util_main import group_strings_return_longest\n",
    "\n",
    "dfs = extractor.get_rawfile_dataframes()\n",
    "df = dfs[0][1]\n",
    "\n",
    "page_contents = df[\"page_content\"].tolist()\n",
    "unique_ish = group_strings_return_longest(page_contents, similarity_threshold=.95)\n",
    "print(f\"unique_ish: {len(unique_ish)}\")\n",
    "print('-' * 100)\n",
    "# for content in unique_ish:\n",
    "#     print(content)\n",
    "#     print(\"---\")\n"
   ]
  },
  {
   "cell_type": "code",
   "execution_count": 4,
   "id": "d34a382d",
   "metadata": {},
   "outputs": [
    {
     "name": "stdout",
     "output_type": "stream",
     "text": [
      "Starting the script...\n",
      "Counter: 1\n",
      "Doing something else...\n",
      "Counter: 2More outputs here...\n",
      "Counter: 3\n",
      "Final print.\n"
     ]
    }
   ],
   "source": [
    "import sys\n",
    "import time\n",
    "\n",
    "# Function to update the counter on a single line\n",
    "def update_counter(value):\n",
    "    # Print the counter on the same line\n",
    "    sys.stdout.write(f\"\\rCounter: {value}\")\n",
    "    sys.stdout.flush()\n",
    "\n",
    "# Example script\n",
    "print(\"Starting the script...\")\n",
    "time.sleep(1)\n",
    "\n",
    "update_counter(1)  # Counter is updated in place\n",
    "time.sleep(1)\n",
    "\n",
    "print(\"\\nDoing something else...\")  # Moves to a new line\n",
    "time.sleep(1)\n",
    "\n",
    "update_counter(2)  # Counter still updates in the same position\n",
    "time.sleep(1)\n",
    "\n",
    "print(\"More outputs here...\")  # New text doesn't overwrite the counter\n",
    "time.sleep(1)\n",
    "\n",
    "update_counter(3)  # Update the counter again\n",
    "time.sleep(1)\n",
    "\n",
    "print(\"\\nFinal print.\")  # Ensure the final message is clear\n"
   ]
  },
  {
   "cell_type": "markdown",
   "id": "19acb478",
   "metadata": {},
   "source": [
    "## Peplink.com"
   ]
  },
  {
   "cell_type": "code",
   "execution_count": null,
   "id": "e3fd47a61cf408dd",
   "metadata": {
    "ExecuteTime": {
     "end_time": "2024-12-29T02:36:20.927833Z",
     "start_time": "2024-12-29T02:36:19.718636Z"
    }
   },
   "outputs": [],
   "source": [
    "extractor = WebsiteExtractor(\"https://www.peplink.com/company/about-us/glossary-and-definitions/\")\n",
    "extractor.extract()\n"
   ]
  },
  {
   "cell_type": "code",
   "execution_count": null,
   "id": "2bb91ef23f726532",
   "metadata": {
    "ExecuteTime": {
     "end_time": "2024-12-29T02:36:23.072274Z",
     "start_time": "2024-12-29T02:36:20.933548Z"
    }
   },
   "outputs": [],
   "source": [
    "extractor = WebsiteExtractor(\"https://www.peplink.com/technology/speedfusion-bonding-technology/\")\n",
    "extractor.extract()\n"
   ]
  },
  {
   "cell_type": "code",
   "execution_count": null,
   "id": "7a3e6baa7f718218",
   "metadata": {
    "ExecuteTime": {
     "end_time": "2024-12-29T03:21:01.621379Z",
     "start_time": "2024-12-29T02:36:23.081354Z"
    }
   },
   "outputs": [],
   "source": [
    "extractor = WebsiteExtractor(\"https://www.peplink.com/\")\n",
    "extractor.extract()\n"
   ]
  }
 ],
 "metadata": {
  "kernelspec": {
   "display_name": "Python 3 (ipykernel)",
   "language": "python",
   "name": "python3"
  },
  "language_info": {
   "codemirror_mode": {
    "name": "ipython",
    "version": 3
   },
   "file_extension": ".py",
   "mimetype": "text/x-python",
   "name": "python",
   "nbconvert_exporter": "python",
   "pygments_lexer": "ipython3",
   "version": "3.12.2"
  }
 },
 "nbformat": 5,
 "nbformat_minor": 9
}
