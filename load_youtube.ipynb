{
    "cells": [
        {
            "cell_type": "markdown",
            "metadata": {},
            "source": [
                "# General Setup"
            ]
        },
        {
            "cell_type": "code",
            "execution_count": 1,
            "metadata": {
                "ExecuteTime": {
                    "end_time": "2024-11-24T16:10:29.827935Z",
                    "start_time": "2024-11-24T16:10:29.585219Z"
                }
            },
            "outputs": [],
            "source": [
                "import os\n",
                "import os\n",
                "from langchain_openai import ChatOpenAI\n",
                "from dotenv import load_dotenv\n",
                "from googleapiclient.discovery import build\n",
                "from langchain_community.document_loaders.youtube import YoutubeLoader\n",
                "\n",
                "load_dotenv()  # take environment variables from .env\n",
                "\n",
                "os.environ[\"LANGCHAIN_API_KEY\"] = os.getenv(\"LANGCHAIN_API_KEY\")\n",
                "os.environ[\"OPENAI_API_KEY\"] = os.getenv(\"OPENAI_API_KEY\")\n",
                "os.environ[\"LANGCHAIN_TRACING_V2\"] = \"true\"\n",
                "os.environ[\"USER_AGENT\"] = os.getenv(\"USER_AGENT\")\n",
                "YOUTUBE_API_KEY = os.getenv(\"YOUTUBE_API_KEY\")\n",
                "\n",
                "llm = ChatOpenAI(model=\"gpt-4o-mini\")\n"
            ]
        },
        {
            "cell_type": "markdown",
            "metadata": {},
            "source": [
                "# YouTube API Setup"
            ]
        },
        {
            "cell_type": "code",
            "execution_count": 2,
            "metadata": {},
            "outputs": [
                {
                    "name": "stdout",
                    "output_type": "stream",
                    "text": [
                        "UCVoGNhZzFTtuUd5I8GvVH-Q\n"
                    ]
                }
            ],
            "source": [
                "def get_channel_id(api_key, username):\n",
                "    youtube = build('youtube', 'v3', developerKey=api_key)\n",
                "\n",
                "    # Search for the channel by username\n",
                "    request = youtube.search().list(\n",
                "        part='snippet',\n",
                "        q=username,\n",
                "        type='channel',\n",
                "        maxResults=1\n",
                "    )\n",
                "    response = request.execute()\n",
                "\n",
                "    # Extract the channel ID from the response\n",
                "    if response['items']:\n",
                "        channel_id = response['items'][0]['snippet']['channelId']\n",
                "        return channel_id\n",
                "    else:\n",
                "        return None\n",
                "\n",
                "channel_id = get_channel_id(YOUTUBE_API_KEY, \"@peplink\")\n",
                "print(channel_id)\n"
            ]
        },
        {
            "cell_type": "code",
            "execution_count": 3,
            "metadata": {},
            "outputs": [
                {
                    "name": "stdout",
                    "output_type": "stream",
                    "text": [
                        "226\n",
                        "['X5__4jeHx8Y', 'SR4Fqqvm26w', 'bYRWlpO0Fps', 'EL-jbu455mY', 'RGoum6IwHnQ', 'PEGrP0gGlfE', 'p1RmCXoqwCA', 'hLti35eXu-Y', 'amLK85LdDlQ', '6h_xPnd_s0c', 'jXkTcTFHZM4', 'j_tgbrWc5r0', 'Y5CGF61Kg58', '9TKAtcQA4gQ', 'P2YdZdMBiNs', 'U9kLNBvdpXo', 'fszikxLfzDo', 'VbAzr-_gaYg', 'cwUZMDzAPp0', 'igReb-oENS4', '85O_C2GPYxk', 'oeQVDtWUGfo', 'oKxch6X9FE0', 'tIXVtfto8ic', '_LAHIILM0q8', 'rAABltQ_mFg', 'iNwVqhp2QtY', 'GLtjyS4ELAA', 'peixgiy1Iko', 'y6CortEyHV4', 'CAEnhCk8-IY', 'A2IApxXmwug', 'NOcdJOVNa9Q', 'cyWL6AmwwOM', 'wyuumBLn2Wk', 'T4L039BDZcU', 'u_y8jUX1n4o', 'BabplwtnHnc', '_vpiNJJJb44', 'P7EfnkAx6oU', 'HHibWo42yBM', 'jab6P1m2BJY', 'n1jLdrk17ac', 'nH8x5jbAI8g', 'tyS58gMPedY', 'yV3hmff9bsY', 'UX7fCpU69eA', 'ZP39-9oDiJM', '-S3w1wOjirY', 'jVY4qNhYiTM', 'EH_5WMTgXJc', 'rcqh84KP8lk', 'DUV4_NDn4p4', 'egRsS-JBko8', 'EafF_TT2bdc', 'Wakv_Iqat7M', '4ft_QOUw8w8', 'tUIjifdL82s', 'kttp_HKJqUA', 'PzYNVIP8ei8', 'FgFQErHm3Vc', 'GMCyxaSeU34', '5uHH9Io2aPk', 'IcMjOhEUGjU', 'ZfUm7fybz_g', 'IF4nFpiwaZU', 'O3mQM3g63mI', 'J1Jcgce7zrQ', '6U0sk4ddAmE', '8SGQ0gsPh-4', 'kXr8fArbQ-E', '3O1_u2yY5ys', 'iLnKarz0yYM', 'k2Z_6eNEhkA', 'zWKdv9x_P2I', '-CTrjiYFzpY', 'lLR6LF_igRM', '-EAESBwHuQs', 'DitYc4GQ4B4', 'fmhfsIm4Cjs', 'yL9RXaufPv8', 'ceudQ4ARKvI', 'h7irI644B4Q', 'L3bgkRmoZ5g', 'Q1zu1PRibsI', 'qDGQY8j4zNc', 'U21p7ivXia4', 'LuErlpP5Ehs', '-ccl5Ih5EpA', 'xeg0hfYc0Qk', '7t-GjwHgEAE', 'bowmbanw-JE', 'Fk6ySZHxYyk', '07TNZmGj1VU', 'FAUPZWjB4RE', 'iA-aPexwg1E', 'BipZ_IUAFog', 'bf6u_0REOY4', '86_xYvgiuhM', 'n1PNoCb9tgU', 'HIF8ljVdRFc', 'MONd5wzyVpA', 'rh3nBldOgHo', 'kF3buMnmoOQ', 'lZj00JFhBsA', 'S4el2fa6jIU', 'SJ1rA0qIRig', 'ZOsbhKMtUgE', '5f_AF705SWk', 'h60aewFh_LI', 'kVFDVYvtL-8', '-i7yxSxU8tA', 'C8CR_ck3cB4', 'ESSof1tnDS0', 'mCsc3k_bnD4', 'hhRtLh0jpAE', 'KfBnbM_rBck', '9IlGCciUh1g', 'D1TJpnTFrSo', '8kRohBeaoBQ', 'A21KmtdPlGE', 'nmxlW-K47WQ', '2KnKtXpwQYQ', 'CO-9IwXm4mk', '7-2Tc4d4kMs', '3atiEs5QRo0', 'QLRyMmkAanI', '-sT5rUYvX6Q', 'BydiMRl9ruk', 'fjQ5OrY9BTQ', 'oycXrTbygrM', '-NzG_lwm5mg', 'C3xF47F5DpU', 'eZIPyGNDZ2M', 'W3hYlW_l2VU', 'mv_bUjlEgRs', 'o4QLtWQ1Jx0', 'LzzK6izbZCs', 'HKfThlZ1pwo', 'Jl-gBaYv_0o', 'fcOHO6I9uvc', '7j3fUC-MkqA', 'mJ7O5k_93lA', 'QpF1Z50UfTI', 'yTLB4DvWi8I', 'sDQ2jQu3I-0', 'HsdU3kXeXLI', 'YQL44Lh9Q7s', 'sJtHyKavjoU', 'AUPCB4SGSz8', 'pAo-mMsE2gA', '-hcPXqfYAls', '2xYeTYXfkZU', '7zWIICLZYlU', 'mcm8vcHfqlQ', '8KzUPCjiBic', 'AiQQefxXiz0', 'pb-BsY7RNI4', 'jlj87OvifIo', 'UOWHBkeE4lE', '2Ca3PpJZ39g', 'hc2hEqOwemg', '6IIeznITGVw', 'z29WgN1h7iU', 'kmpnh91N2Ws', '5p3P05N1NzY', 'sZjyiborj5k', '4Q4iDDrxNvo', 'GuOzU2xxdLQ', '-2f8qPMO_Ic', 'jTYcV_2ePYA', 'HFVEQ3QaC0U', 'q2qeHaoD9-w', 'w73_Dky1NWY', 'guRXsX5-5Y0', 'shy_fFWnM3Y', 'PIz-wkysn2E', 'a6-ZPll_q_w', 'lnQR-rRx-GQ', 'GqN3WlFXPpc', 'QW4A5TQFZ7Q', 'XrmtzrDeChk', '2mgIo81rBQA', 'vlQod2HjHhQ', 'H3WpwAA5ato', 'YPSjMDVmcdo', 'ng09jbqNPsk', 'rq5p8HWCi5k', 'qfGcBRxxnOA', 'JrO5_yuX38A', 'nZboeAt8uLs', '9aA9J86QAyo', 'Ox8yfcPqigg', 'z7ImnvDkhWY', 'PAJrk5T2dkM', 'foZ_az9RXoo', '0rSOSNRdEow', 'wOlMtgTPXS0', 'zxdKI86AQQs', 'ndG1HCSkZLk', 'clfGCRsvTmQ', 'UyPbuWDltgg', 'ICXonsyNPhE', 'AC7jApaCu4Q', 'oWH1rzlbXqM', 'UEclsW7cSnA', 'cD0IT9ijekM', 'rSnVjkU4jB8', 'OILEOysaSbY', '_9VAmxx7tss', '13M-JHRAICA', 'guZIvgNXKEo', 'q9YfewybrWg', 'ZAeMdOWE52o', 'VkHYYV3Z2lU', 'HP_wV2ADIP8', 'yUWCQoHnbBE', '5sN2SzWdQaU', 'xLjFUJ47RzA', 'Va1AbF1thNk', '9mDputS2URo', 'lZG2-VPml5w', 'TLQgdpPSY88', 'rKH4AS_bQnE', 'mIK9zpcugGM', 'xNaq13FWu_g']\n"
                    ]
                }
            ],
            "source": [
                "\n",
                "def fetch_video_ids(api_key, channel_id):\n",
                "    youtube = build(\"youtube\", \"v3\", developerKey=api_key)\n",
                "    video_ids = []\n",
                "\n",
                "    # Get uploads playlist ID for the channel\n",
                "    request = youtube.channels().list(part=\"contentDetails\", id=channel_id)\n",
                "    response = request.execute()\n",
                "    uploads_playlist_id = response[\"items\"][0][\"contentDetails\"][\"relatedPlaylists\"][\"uploads\"]\n",
                "\n",
                "    # Fetch all video IDs from the uploads playlist\n",
                "    next_page_token = None\n",
                "    while True:\n",
                "        playlist_request = youtube.playlistItems().list(\n",
                "            part=\"contentDetails\",\n",
                "            playlistId=uploads_playlist_id,\n",
                "            maxResults=50,\n",
                "            pageToken=next_page_token,\n",
                "        )\n",
                "        playlist_response = playlist_request.execute()\n",
                "        for item in playlist_response[\"items\"]:\n",
                "            video_id = item[\"contentDetails\"][\"videoId\"]\n",
                "\n",
                "            # Check video privacy status\n",
                "            video_request = youtube.videos().list(\n",
                "                part=\"status\",\n",
                "                id=video_id\n",
                "            )\n",
                "            video_response = video_request.execute()\n",
                "            if video_response[\"items\"]:\n",
                "                if video_response[\"items\"][0][\"status\"][\"privacyStatus\"] == \"public\":\n",
                "                    video_ids.append(video_id)\n",
                "\n",
                "        next_page_token = playlist_response.get(\"nextPageToken\")\n",
                "        if not next_page_token:\n",
                "            break\n",
                "    return video_ids\n",
                "\n",
                "\n",
                "video_ids = fetch_video_ids(YOUTUBE_API_KEY, channel_id)\n",
                "print(len(video_ids))\n",
                "print(video_ids)\n"
            ]
        },
        {
            "cell_type": "code",
            "execution_count": 5,
            "metadata": {},
            "outputs": [
                {
                    "name": "stdout",
                    "output_type": "stream",
                    "text": [
                        "1[{\"variableName\": \"ID_TO_MEANING\", \"type\": \"dictionary\", \"supportedEngines\": [\"pandas\"], \"isLocalVariable\": true}]\n",
                        "\n",
                        "1[{\"variableName\": \"ID_TO_MEANING\", \"type\": \"dictionary\", \"supportedEngines\": [\"pandas\"], \"isLocalVariable\": true}]\n",
                        "\n",
                        "1[{\"variableName\": \"ID_TO_MEANING\", \"type\": \"dictionary\", \"supportedEngines\": [\"pandas\"], \"isLocalVariable\": true}]\n",
                        "\n"
                    ]
                }
            ],
            "source": [
                "\n",
                "def load_transcripts(video_ids):\n",
                "    documents = []\n",
                "    for video_id in video_ids:\n",
                "        try:\n",
                "            loader = YoutubeLoader(video_id=video_id)\n",
                "            docs = loader.load()\n",
                "            documents.extend(docs)\n",
                "        except Exception as e:\n",
                "            print(f\"Could not load transcript for video {video_id}: {str(e)}\")\n",
                "            continue\n",
                "    return documents\n",
                "\n",
                "documents = load_transcripts(video_ids)\n",
                "print(len(documents))\n",
                "print(documents)\n"
            ]
        }
    ],
    "metadata": {
        "kernelspec": {
            "display_name": "langchain_pepwave_env",
            "language": "python",
            "name": "python3"
        },
        "language_info": {
            "codemirror_mode": {
                "name": "ipython",
                "version": 3
            },
            "file_extension": ".py",
            "mimetype": "text/x-python",
            "name": "python",
            "nbconvert_exporter": "python",
            "pygments_lexer": "ipython3",
            "version": "3.12.2"
        }
    },
    "nbformat": 4,
    "nbformat_minor": 2
}
