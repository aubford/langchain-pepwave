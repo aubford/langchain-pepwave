{
 "cells": [
  {
   "cell_type": "code",
   "execution_count": 3,
   "id": "1046ef9817917259",
   "metadata": {
    "ExecuteTime": {
     "end_time": "2024-12-18T01:31:50.960156Z",
     "start_time": "2024-12-18T01:31:50.501547Z"
    }
   },
   "outputs": [],
   "source": [
    "from extract.reddit.reddit_extractor import RedditPostExtractor\n"
   ]
  },
  {
   "cell_type": "code",
   "execution_count": null,
   "id": "178d17f1ef4315a3",
   "metadata": {},
   "outputs": [],
   "source": [
    "\n",
    "pep_extractor = RedditPostExtractor('Peplink')\n",
    "pep_extractor.extract()\n"
   ]
  },
  {
   "cell_type": "code",
   "execution_count": null,
   "id": "ee4e4591022ce554",
   "metadata": {},
   "outputs": [],
   "source": [
    "\n",
    "net_extractor = RedditPostExtractor('networking')\n",
    "net_extractor.extract()\n"
   ]
  },
  {
   "cell_type": "code",
   "execution_count": null,
   "id": "29c75a7af9d9a65b",
   "metadata": {},
   "outputs": [],
   "source": [
    "\n",
    "sys_extractor = RedditPostExtractor('sysadmin')\n",
    "sys_extractor.extract()\n"
   ]
  }
 ],
 "metadata": {
  "kernelspec": {
   "display_name": "langchain_pepwave_env",
   "language": "python",
   "name": "python3"
  },
  "language_info": {
   "codemirror_mode": {
    "name": "ipython",
    "version": 3
   },
   "file_extension": ".py",
   "mimetype": "text/x-python",
   "name": "python",
   "nbconvert_exporter": "python",
   "pygments_lexer": "ipython3",
   "version": "3.12.2"
  }
 },
 "nbformat": 5,
 "nbformat_minor": 9
}
