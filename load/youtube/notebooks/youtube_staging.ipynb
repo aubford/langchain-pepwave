{
 "cells": [
  {
   "cell_type": "code",
   "id": "3ae43d6edc83fe50",
   "metadata": {
    "ExecuteTime": {
     "end_time": "2025-03-20T06:08:40.670244Z",
     "start_time": "2025-03-20T06:08:40.654001Z"
    }
   },
   "source": [
    "import pandas as pd\n",
    "from pathlib import Path\n",
    "\n",
    "staging_path = Path(\"../merged.parquet\")\n",
    "df = pd.read_parquet(staging_path)\n",
    "\n",
    "df.columns\n"
   ],
   "outputs": [
    {
     "data": {
      "text/plain": [
       "Index(['date', 'channel_id', 'title', 'description', 'channel_title',\n",
       "       'duration', 'view_count', 'like_count', 'comment_count', 'id',\n",
       "       'source_file', 'page_content', 'subject_matter', 'word_count', 'type',\n",
       "       'primary_content', 'lead_content', 'score', 'author_id', 'author_name'],\n",
       "      dtype='object')"
      ]
     },
     "execution_count": 2,
     "metadata": {},
     "output_type": "execute_result"
    }
   ],
   "execution_count": 2
  }
 ],
 "metadata": {
  "kernelspec": {
   "display_name": "Python 3 (ipykernel)",
   "language": "python",
   "name": "python3"
  },
  "language_info": {
   "codemirror_mode": {
    "name": "ipython",
    "version": 3
   },
   "file_extension": ".py",
   "mimetype": "text/x-python",
   "name": "python",
   "nbconvert_exporter": "python",
   "pygments_lexer": "ipython3",
   "version": "3.12.2"
  }
 },
 "nbformat": 5,
 "nbformat_minor": 9
}
