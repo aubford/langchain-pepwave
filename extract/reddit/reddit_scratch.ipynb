{
 "cells": [
  {
   "cell_type": "code",
   "id": "d08742d277e8c948",
   "metadata": {},
   "source": [
    "from langchain_community.document_loaders import RedditPostsLoader\n",
    "from config import config\n",
    "\n",
    "loader = RedditPostsLoader(\n",
    "    client_id=config.get(\"REDDIT_CLIENT_ID\"),\n",
    "    client_secret=config.get(\"REDDIT_CLIENT_SECRET\"),\n",
    "    user_agent=\"extractor by u/Master_Ocelot8179\",\n",
    "    categories=[\"new\", \"hot\"],  # List of categories to load posts from\n",
    "    mode=\"subreddit\",\n",
    "    search_queries=[\n",
    "        \"wallstreetbets\",\n",
    "    ],  # List of subreddits to load posts from\n",
    "    number_posts=20,  # Default value is 10\n",
    ")\n"
   ],
   "outputs": [],
   "execution_count": null
  },
  {
   "cell_type": "code",
   "id": "48b43826ad3c3cf2",
   "metadata": {},
   "source": [
    "documents = loader.load()\n",
    "documents[:5]\n"
   ],
   "outputs": [],
   "execution_count": null
  }
 ],
 "metadata": {
  "kernelspec": {
   "display_name": "Python 3",
   "language": "python",
   "name": "python3"
  },
  "language_info": {
   "codemirror_mode": {
    "name": "ipython",
    "version": 3
   },
   "file_extension": ".py",
   "mimetype": "text/x-python",
   "name": "python",
   "nbconvert_exporter": "python",
   "pygments_lexer": "ipython3",
   "version": "3.12.2"
  }
 },
 "nbformat": 4,
 "nbformat_minor": 5
}
