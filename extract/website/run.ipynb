{
 "cells": [
  {
   "metadata": {},
   "cell_type": "code",
   "outputs": [],
   "execution_count": null,
   "source": "from .website_extractor import WebsiteExtractor\n",
   "id": "dd410ed32892ec0b"
  },
  {
   "metadata": {},
   "cell_type": "code",
   "outputs": [],
   "execution_count": null,
   "source": [
    "extractor = WebsiteExtractor(\"https://www.peplink.com/\")\n",
    "extractor.extract()\n"
   ],
   "id": "7a3e6baa7f718218"
  },
  {
   "metadata": {},
   "cell_type": "code",
   "outputs": [],
   "execution_count": null,
   "source": [
    "extractor = WebsiteExtractor(\"https://www.martinlangmaid.com/2014/12/15/managing-multiple-wan-links-peplink-routers\")\n",
    "extractor.extract()\n"
   ],
   "id": "3837cc10779cb8da"
  },
  {
   "metadata": {},
   "cell_type": "code",
   "outputs": [],
   "execution_count": null,
   "source": [
    "extractor = WebsiteExtractor(\"https://www.peplink.com/company/about-us/glossary-and-definitions/\")\n",
    "extractor.extract()\n"
   ],
   "id": "e3fd47a61cf408dd"
  },
  {
   "metadata": {},
   "cell_type": "code",
   "outputs": [],
   "execution_count": null,
   "source": [
    "extractor = WebsiteExtractor(\"https://www.peplink.com/technology/speedfusion-bonding-technology/\")\n",
    "extractor.extract()\n"
   ],
   "id": "2bb91ef23f726532"
  }
 ],
 "metadata": {},
 "nbformat": 5,
 "nbformat_minor": 9
}
