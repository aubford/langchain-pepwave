{
 "cells": [
  {
   "cell_type": "code",
   "metadata": {
    "ExecuteTime": {
     "end_time": "2024-12-06T15:41:41.223953Z",
     "start_time": "2024-12-06T15:41:40.453899Z"
    }
   },
   "source": [
    "import json\n",
    "import pandas as pd\n",
    "import os\n",
    "from langchain_openai import ChatOpenAI\n",
    "from dotenv import load_dotenv\n",
    "from googleapiclient.discovery import build\n",
    "from langchain_community.document_loaders.youtube import YoutubeLoader\n",
    "from extract.youtube.VideoItem import VideoItem\n",
    "\n",
    "load_dotenv()  # take environment variables from .env\n",
    "\n",
    "os.environ[\"LANGCHAIN_API_KEY\"] = os.getenv(\"LANGCHAIN_API_KEY\")\n",
    "os.environ[\"OPENAI_API_KEY\"] = os.getenv(\"OPENAI_API_KEY\")\n",
    "os.environ[\"LANGCHAIN_TRACING_V2\"] = \"true\"\n",
    "os.environ[\"USER_AGENT\"] = os.getenv(\"USER_AGENT\")\n",
    "YOUTUBE_API_KEY = os.getenv(\"YOUTUBE_API_KEY\")\n",
    "\n",
    "llm = ChatOpenAI(model=\"gpt-4o-mini\")\n"
   ],
   "outputs": [],
   "execution_count": 1
  },
  {
   "cell_type": "code",
   "metadata": {
    "ExecuteTime": {
     "end_time": "2024-12-06T15:41:41.671833Z",
     "start_time": "2024-12-06T15:41:41.229300Z"
    }
   },
   "source": [
    "\n",
    "def get_channel_id(api_key, username):\n",
    "    youtube = build('youtube', 'v3', developerKey=api_key)\n",
    "\n",
    "    # Search for the channel by username\n",
    "    request = youtube.search().list(\n",
    "        part='snippet',\n",
    "        q=username,\n",
    "        type='channel',\n",
    "        maxResults=1\n",
    "    )\n",
    "    response = request.execute()\n",
    "\n",
    "    # Extract the channel ID from the response\n",
    "    if response['items']:\n",
    "        channel_id = response['items'][0]['snippet']['channelId']\n",
    "        return channel_id\n",
    "    else:\n",
    "        return None\n",
    "\n",
    "\n",
    "channel_id = get_channel_id(YOUTUBE_API_KEY, \"@peplink\")\n",
    "print(channel_id)\n"
   ],
   "outputs": [
    {
     "name": "stdout",
     "output_type": "stream",
     "text": [
      "UCVoGNhZzFTtuUd5I8GvVH-Q\n"
     ]
    }
   ],
   "execution_count": 2
  },
  {
   "cell_type": "code",
   "metadata": {
    "ExecuteTime": {
     "end_time": "2024-12-06T15:41:41.852827Z",
     "start_time": "2024-12-06T15:41:41.749Z"
    }
   },
   "source": [
    "\n",
    "youtube_client = build(\"youtube\", \"v3\", developerKey=YOUTUBE_API_KEY)\n",
    "\n",
    "# Get uploads playlist ID for the channel\n",
    "request = youtube_client.channels().list(part=\"contentDetails\", id=channel_id)\n",
    "response = request.execute()\n",
    "uploads_playlist_id = response[\"items\"][0][\"contentDetails\"][\"relatedPlaylists\"][\"uploads\"]\n",
    "print(uploads_playlist_id)\n"
   ],
   "outputs": [
    {
     "name": "stdout",
     "output_type": "stream",
     "text": [
      "UUVoGNhZzFTtuUd5I8GvVH-Q\n"
     ]
    }
   ],
   "execution_count": 3
  },
  {
   "cell_type": "markdown",
   "metadata": {},
   "source": [
    "### Fetch videos with transcripts"
   ]
  },
  {
   "cell_type": "code",
   "metadata": {
    "ExecuteTime": {
     "end_time": "2024-12-06T15:44:35.931450Z",
     "start_time": "2024-12-06T15:41:41.860801Z"
    }
   },
   "source": [
    "\n",
    "videos_with_transcripts = []\n",
    "next_page_token = None\n",
    "while True:\n",
    "    playlist_request = youtube_client.playlistItems().list(\n",
    "        part=\"contentDetails\",\n",
    "        playlistId=uploads_playlist_id,\n",
    "        maxResults=50,\n",
    "        pageToken=next_page_token,\n",
    "    )\n",
    "    playlist_response = playlist_request.execute()\n",
    "    for item in playlist_response[\"items\"]:\n",
    "        video_id = item[\"contentDetails\"][\"videoId\"]\n",
    "\n",
    "        # Check video privacy and caption status\n",
    "        video_request = youtube_client.videos().list(\n",
    "            part=\"status,contentDetails,snippet,statistics,topicDetails,localizations,player,recordingDetails\",\n",
    "            id=video_id\n",
    "        )\n",
    "        video_response = video_request.execute()\n",
    "        if video_response[\"items\"]:\n",
    "            video_item = video_response[\"items\"][0]\n",
    "            is_public = video_item[\"status\"][\"privacyStatus\"] == \"public\"\n",
    "\n",
    "            if is_public:\n",
    "                try:\n",
    "                    loader = YoutubeLoader(video_id=video_id)\n",
    "                    docs = loader.load()\n",
    "                    video_item[\"transcript\"] = docs[0].page_content\n",
    "                    video = VideoItem.model_validate(video_item)\n",
    "                    videos_with_transcripts.append(video.model_dump())\n",
    "\n",
    "                except Exception as e:\n",
    "                    print(f\"Could not load transcript for video {video_id}\")\n",
    "                    continue\n",
    "\n",
    "    next_page_token = playlist_response.get(\"nextPageToken\")\n",
    "    if not next_page_token:\n",
    "        break\n",
    "\n",
    "# Write videos to JSON file\n",
    "with open(\"youtube_account_pepwave.json\", \"w\", encoding=\"utf-8\") as f:\n",
    "    json.dump(videos_with_transcripts, f, ensure_ascii=False, indent=2)\n",
    "\n",
    "# Write videos to parquet file\n",
    "df = pd.DataFrame(videos_with_transcripts)\n",
    "df.to_parquet(\"youtube_account_pepwave.parquet\")\n"
   ],
   "outputs": [
    {
     "name": "stdout",
     "output_type": "stream",
     "text": [
      "Could not load transcript for video RGoum6IwHnQ\n",
      "Could not load transcript for video p1RmCXoqwCA\n",
      "Could not load transcript for video 6h_xPnd_s0c\n",
      "Could not load transcript for video Y5CGF61Kg58\n",
      "Could not load transcript for video P2YdZdMBiNs\n",
      "Could not load transcript for video cwUZMDzAPp0\n",
      "Could not load transcript for video igReb-oENS4\n",
      "Could not load transcript for video 85O_C2GPYxk\n",
      "Could not load transcript for video cyWL6AmwwOM\n",
      "Could not load transcript for video -S3w1wOjirY\n",
      "Could not load transcript for video iLnKarz0yYM\n",
      "Could not load transcript for video -CTrjiYFzpY\n",
      "Could not load transcript for video lLR6LF_igRM\n",
      "Could not load transcript for video -EAESBwHuQs\n",
      "Could not load transcript for video yL9RXaufPv8\n",
      "Could not load transcript for video U21p7ivXia4\n",
      "Could not load transcript for video -ccl5Ih5EpA\n",
      "Could not load transcript for video xeg0hfYc0Qk\n",
      "Could not load transcript for video Fk6ySZHxYyk\n",
      "Could not load transcript for video 07TNZmGj1VU\n",
      "Could not load transcript for video FAUPZWjB4RE\n",
      "Could not load transcript for video iA-aPexwg1E\n",
      "Could not load transcript for video 86_xYvgiuhM\n",
      "Could not load transcript for video HIF8ljVdRFc\n",
      "Could not load transcript for video SJ1rA0qIRig\n",
      "Could not load transcript for video ZOsbhKMtUgE\n",
      "Could not load transcript for video 5f_AF705SWk\n",
      "Could not load transcript for video kVFDVYvtL-8\n",
      "Could not load transcript for video -i7yxSxU8tA\n",
      "Could not load transcript for video A21KmtdPlGE\n",
      "Could not load transcript for video CO-9IwXm4mk\n",
      "Could not load transcript for video -sT5rUYvX6Q\n",
      "Could not load transcript for video BydiMRl9ruk\n",
      "Could not load transcript for video fjQ5OrY9BTQ\n",
      "Could not load transcript for video C3xF47F5DpU\n",
      "Could not load transcript for video eZIPyGNDZ2M\n",
      "Could not load transcript for video W3hYlW_l2VU\n",
      "Could not load transcript for video mv_bUjlEgRs\n",
      "Could not load transcript for video o4QLtWQ1Jx0\n",
      "Could not load transcript for video LzzK6izbZCs\n",
      "Could not load transcript for video HKfThlZ1pwo\n",
      "Could not load transcript for video Jl-gBaYv_0o\n",
      "Could not load transcript for video QpF1Z50UfTI\n",
      "Could not load transcript for video HFVEQ3QaC0U\n",
      "Could not load transcript for video guRXsX5-5Y0\n",
      "Could not load transcript for video ng09jbqNPsk\n",
      "Could not load transcript for video 9aA9J86QAyo\n",
      "Could not load transcript for video PAJrk5T2dkM\n",
      "Could not load transcript for video zxdKI86AQQs\n",
      "Could not load transcript for video ICXonsyNPhE\n",
      "Could not load transcript for video AC7jApaCu4Q\n",
      "Could not load transcript for video 13M-JHRAICA\n",
      "Could not load transcript for video guZIvgNXKEo\n",
      "Could not load transcript for video ZAeMdOWE52o\n",
      "Could not load transcript for video VkHYYV3Z2lU\n",
      "Could not load transcript for video yUWCQoHnbBE\n",
      "Could not load transcript for video 5sN2SzWdQaU\n",
      "Could not load transcript for video xLjFUJ47RzA\n"
     ]
    }
   ],
   "execution_count": 4
  }
 ],
 "metadata": {
  "kernelspec": {
   "display_name": "langchain_pepwave_env",
   "language": "python",
   "name": "python3"
  },
  "language_info": {
   "codemirror_mode": {
    "name": "ipython",
    "version": 3
   },
   "file_extension": ".py",
   "mimetype": "text/x-python",
   "name": "python",
   "nbconvert_exporter": "python",
   "pygments_lexer": "ipython3",
   "version": "3.12.2"
  }
 },
 "nbformat": 4,
 "nbformat_minor": 2
}
