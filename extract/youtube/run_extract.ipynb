{
 "cells": [
  {
   "metadata": {
    "ExecuteTime": {
     "end_time": "2024-12-13T22:58:07.986509Z",
     "start_time": "2024-12-13T22:44:28.271469Z"
    }
   },
   "cell_type": "code",
   "source": [
    "from extract import YouTubeExtractor\n",
    "\n",
    "fg_store = YouTubeExtractor('@5Gstore')\n",
    "uploads_playlist_id = fg_store.get_uploads_playlist_id()\n",
    "print(uploads_playlist_id)\n"
   ],
   "id": "17e0e80b6c3e1d49",
   "outputs": [
    {
     "name": "stdout",
     "output_type": "stream",
     "text": [
      "UUPfPFshSC-rH4IbaClXrWSQ\n"
     ]
    }
   ],
   "execution_count": 20
  },
  {
   "metadata": {
    "ExecuteTime": {
     "end_time": "2024-12-13T23:40:03.687737Z",
     "start_time": "2024-12-13T22:58:26.736654Z"
    }
   },
   "cell_type": "code",
   "source": [
    "\n",
    "fg_store.fetch_videos_with_transcripts()\n",
    "\n"
   ],
   "id": "f3b2cac812fc077b",
   "outputs": [
    {
     "name": "stdout",
     "output_type": "stream",
     "text": [
      "2024-12-13 17:58:26,740 - youtube_5Gstore - INFO - Started stream for video_item_5Gstore:\n",
      "Raw: data/youtube/raw/youtube_video_item_5Gstore__T_20241213_175826.jsonl\n",
      "2024-12-13 18:02:03,618 - youtube_5Gstore - ERROR - Could not load transcript for video oR5_rOZIwXE: \n",
      "Could not retrieve a transcript for the video https://www.youtube.com/watch?v=oR5_rOZIwXE! This is most likely caused by:\n",
      "\n",
      "No transcripts were found for any of the requested language codes: ['en']\n",
      "\n",
      "For this video (oR5_rOZIwXE) transcripts are available in the following languages:\n",
      "\n",
      "(MANUALLY CREATED\n",
      "2024-12-13 18:13:31,831 - youtube_5Gstore - ERROR - Could not load transcript for video RF8URX0Hc4o: \n",
      "Could not retrieve a transcript for the video https://www.youtube.com/watch?v=RF8URX0Hc4o! This is most likely caused by:\n",
      "\n",
      "No transcripts were found for any of the requested language codes: ['en']\n",
      "\n",
      "For this video (RF8URX0Hc4o) transcripts are available in the following languages:\n",
      "\n",
      "(MANUALLY CREATED\n",
      "2024-12-13 18:13:42,733 - youtube_5Gstore - ERROR - Could not load transcript for video f4Bh0rmqByA: \n",
      "Could not retrieve a transcript for the video https://www.youtube.com/watch?v=f4Bh0rmqByA! This is most likely caused by:\n",
      "\n",
      "No transcripts were found for any of the requested language codes: ['en']\n",
      "\n",
      "For this video (f4Bh0rmqByA) transcripts are available in the following languages:\n",
      "\n",
      "(MANUALLY CREATED\n",
      "2024-12-13 18:13:56,386 - youtube_5Gstore - ERROR - Validation error for model: VideoItem\n",
      "Error: 1 validation error for VideoItem\n",
      "statistics.commentCount\n",
      "  Field required [type=missing, input_value={'viewCount': '287', 'lik...', 'favoriteCount': '0'}, input_type=dict]\n",
      "    For further information visit https://errors.pydantic.dev/2.10/v/missing\n",
      "2024-12-13 18:38:12,952 - youtube_5Gstore - ERROR - Validation error for model: VideoItem\n",
      "Error: 1 validation error for VideoItem\n",
      "statistics.likeCount\n",
      "  Field required [type=missing, input_value={'viewCount': '23729', 'f...0', 'commentCount': '3'}, input_type=dict]\n",
      "    For further information visit https://errors.pydantic.dev/2.10/v/missing\n",
      "2024-12-13 18:38:32,803 - youtube_5Gstore - ERROR - Validation error for model: VideoItem\n",
      "Error: 2 validation errors for VideoItem\n",
      "statistics.likeCount\n",
      "  Field required [type=missing, input_value={'viewCount': '265', 'favoriteCount': '0'}, input_type=dict]\n",
      "    For further information visit https://errors.pydantic.dev/2.10/v/missing\n",
      "statistics.commentCount\n",
      "  Field required [type=missing, input_value={'viewCount': '265', 'favoriteCount': '0'}, input_type=dict]\n",
      "    For further information visit https://errors.pydantic.dev/2.10/v/missing\n",
      "2024-12-13 18:38:33,387 - youtube_5Gstore - ERROR - Validation error for model: VideoItem\n",
      "Error: 2 validation errors for VideoItem\n",
      "statistics.likeCount\n",
      "  Field required [type=missing, input_value={'viewCount': '1219', 'favoriteCount': '0'}, input_type=dict]\n",
      "    For further information visit https://errors.pydantic.dev/2.10/v/missing\n",
      "statistics.commentCount\n",
      "  Field required [type=missing, input_value={'viewCount': '1219', 'favoriteCount': '0'}, input_type=dict]\n",
      "    For further information visit https://errors.pydantic.dev/2.10/v/missing\n",
      "2024-12-13 18:38:38,320 - youtube_5Gstore - ERROR - Could not load transcript for video YszwPlFxdYs: \n",
      "Could not retrieve a transcript for the video https://www.youtube.com/watch?v=YszwPlFxdYs! This is most likely caused by:\n",
      "\n",
      "No transcripts were found for any of the requested language codes: ['en']\n",
      "\n",
      "For this video (YszwPlFxdYs) transcripts are available in the following languages:\n",
      "\n",
      "(MANUALLY CREATED\n",
      "2024-12-13 18:38:56,087 - youtube_5Gstore - ERROR - Could not load transcript for video Rlhb33j1IOc: \n",
      "Could not retrieve a transcript for the video https://www.youtube.com/watch?v=Rlhb33j1IOc! This is most likely caused by:\n",
      "\n",
      "No transcripts were found for any of the requested language codes: ['en']\n",
      "\n",
      "For this video (Rlhb33j1IOc) transcripts are available in the following languages:\n",
      "\n",
      "(MANUALLY CREATED\n",
      "2024-12-13 18:39:31,062 - youtube_5Gstore - ERROR - Validation error for model: VideoItem\n",
      "Error: 1 validation error for VideoItem\n",
      "statistics.commentCount\n",
      "  Field required [type=missing, input_value={'viewCount': '7518', 'li...', 'favoriteCount': '0'}, input_type=dict]\n",
      "    For further information visit https://errors.pydantic.dev/2.10/v/missing\n",
      "2024-12-13 18:39:59,008 - youtube_5Gstore - ERROR - Validation error for model: VideoItem\n",
      "Error: 1 validation error for VideoItem\n",
      "statistics.commentCount\n",
      "  Field required [type=missing, input_value={'viewCount': '3502', 'li...', 'favoriteCount': '0'}, input_type=dict]\n",
      "    For further information visit https://errors.pydantic.dev/2.10/v/missing\n",
      "Ended stream for video_item_5Gstore\n"
     ]
    }
   ],
   "execution_count": 21
  },
  {
   "metadata": {},
   "cell_type": "code",
   "outputs": [],
   "execution_count": null,
   "source": [
    "\n",
    "# mirc = YouTubeExtractor('@MobileInternetResourceCenter')\n",
    "# frontier_us = YouTubeExtractor('@Frontierus')\n",
    "# mobile_must_have = YouTubeExtractor('@MobileMustHave')\n",
    "# techno_rv = YouTubeExtractor('@Technorv')\n"
   ],
   "id": "9b102d391f78237f"
  }
 ],
 "metadata": {
  "kernelspec": {
   "name": "python3",
   "language": "python",
   "display_name": "Python 3 (ipykernel)"
  }
 },
 "nbformat": 5,
 "nbformat_minor": 9
}
