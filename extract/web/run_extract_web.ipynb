{
 "cells": [
  {
   "cell_type": "markdown",
   "id": "86f2acec",
   "metadata": {},
   "source": [
    "## Martin Langmaid"
   ]
  },
  {
   "cell_type": "code",
   "id": "3837cc10779cb8da",
   "metadata": {
    "ExecuteTime": {
     "end_time": "2024-12-29T02:36:17.599313Z",
     "start_time": "2024-12-29T02:35:06.980435Z"
    }
   },
   "source": [
    "from extract.web.web_extractor import WebsiteExtractor\n",
    "extractor = WebsiteExtractor(\"https://www.martinlangmaid.com/2014/12/15/managing-multiple-wan-links-peplink-routers\")\n",
    "extractor.extract()\n"
   ],
   "outputs": [
    {
     "name": "stdout",
     "output_type": "stream",
     "text": [
      "2024-12-28 21:35:06,981 - web - INFO - Started stream for ldoc_martinlangmaid_com_2014_12_15_managing_m:\n",
      "Raw: data/web/raw/web_ldoc_martinlangmaid_com_2014_12_15_managing_m__T_20241228_213506.jsonl\n"
     ]
    },
    {
     "name": "stderr",
     "output_type": "stream",
     "text": [
      "/Users/aubrey/.pyenv/versions/3.12.2/lib/python3.12/html/parser.py:171: XMLParsedAsHTMLWarning: It looks like you're parsing an XML document using an HTML parser. If this really is an HTML document (maybe it's XHTML?), you can ignore or filter this warning. If it's XML, you should know that using an XML parser will be more reliable. To parse this document as XML, make sure you have the lxml package installed, and pass the keyword argument `features=\"xml\"` into the BeautifulSoup constructor.\n",
      "  k = self.parse_starttag(i)\n"
     ]
    },
    {
     "name": "stdout",
     "output_type": "stream",
     "text": [
      "Ended stream for ldoc_martinlangmaid_com_2014_12_15_managing_m\n"
     ]
    }
   ],
   "execution_count": 9
  },
  {
   "cell_type": "markdown",
   "id": "06ee8834",
   "metadata": {},
   "source": [
    "### Introspect Result"
   ]
  },
  {
   "cell_type": "code",
   "execution_count": 2,
   "id": "092bdb82",
   "metadata": {
    "ExecuteTime": {
     "end_time": "2024-12-29T00:37:19.990470Z",
     "start_time": "2024-12-29T00:37:19.497338Z"
    }
   },
   "outputs": [
    {
     "name": "stdout",
     "output_type": "stream",
     "text": [
      "similar_count: 28\n",
      "unique_ish: 2\n",
      "----------------------------------------------------------------------------------------------------\n"
     ]
    }
   ],
   "source": [
    "from util.util import group_strings_return_longest\n",
    "\n",
    "dfs = extractor.get_rawfile_dataframes()\n",
    "df = dfs[0][1]\n",
    "\n",
    "page_contents = df[\"page_content\"].tolist()\n",
    "unique_ish = group_strings_return_longest(page_contents, similarity_threshold=.95)\n",
    "print(f\"unique_ish: {len(unique_ish)}\")\n",
    "print('-' * 100)\n",
    "# for content in unique_ish:\n",
    "#     print(content)\n",
    "#     print(\"---\")\n"
   ]
  },
  {
   "cell_type": "markdown",
   "id": "19acb478",
   "metadata": {},
   "source": [
    "## Peplink.com"
   ]
  },
  {
   "cell_type": "code",
   "id": "e3fd47a61cf408dd",
   "metadata": {
    "ExecuteTime": {
     "end_time": "2024-12-29T02:36:20.927833Z",
     "start_time": "2024-12-29T02:36:19.718636Z"
    }
   },
   "source": [
    "extractor = WebsiteExtractor(\"https://www.peplink.com/company/about-us/glossary-and-definitions/\")\n",
    "extractor.extract()\n"
   ],
   "outputs": [
    {
     "name": "stdout",
     "output_type": "stream",
     "text": [
      "2024-12-28 21:36:19,720 - web - INFO - Started stream for ldoc_peplink_com_company_about_us_glossary_an:\n",
      "Raw: data/web/raw/web_ldoc_peplink_com_company_about_us_glossary_an__T_20241228_213619.jsonl\n",
      "Ended stream for ldoc_peplink_com_company_about_us_glossary_an\n"
     ]
    }
   ],
   "execution_count": 11
  },
  {
   "cell_type": "code",
   "id": "2bb91ef23f726532",
   "metadata": {
    "ExecuteTime": {
     "end_time": "2024-12-29T02:36:23.072274Z",
     "start_time": "2024-12-29T02:36:20.933548Z"
    }
   },
   "source": [
    "extractor = WebsiteExtractor(\"https://www.peplink.com/technology/speedfusion-bonding-technology/\")\n",
    "extractor.extract()\n"
   ],
   "outputs": [
    {
     "name": "stdout",
     "output_type": "stream",
     "text": [
      "2024-12-28 21:36:20,934 - web - INFO - Started stream for ldoc_peplink_com_technology_speedfusion_bondi:\n",
      "Raw: data/web/raw/web_ldoc_peplink_com_technology_speedfusion_bondi__T_20241228_213620.jsonl\n",
      "Ended stream for ldoc_peplink_com_technology_speedfusion_bondi\n"
     ]
    }
   ],
   "execution_count": 12
  },
  {
   "cell_type": "code",
   "id": "7a3e6baa7f718218",
   "metadata": {
    "ExecuteTime": {
     "end_time": "2024-12-29T03:21:01.621379Z",
     "start_time": "2024-12-29T02:36:23.081354Z"
    }
   },
   "source": [
    "extractor = WebsiteExtractor(\"https://www.peplink.com/\")\n",
    "extractor.extract()\n"
   ],
   "outputs": [
    {
     "name": "stdout",
     "output_type": "stream",
     "text": [
      "2024-12-28 21:36:23,083 - web - INFO - Started stream for ldoc_peplink_com:\n",
      "Raw: data/web/raw/web_ldoc_peplink_com__T_20241228_213623.jsonl\n"
     ]
    },
    {
     "name": "stderr",
     "output_type": "stream",
     "text": [
      "/Users/aubrey/workspace/langchain-pepwave/extract/web/web_extractor.py:49: MarkupResemblesLocatorWarning: The input looks more like a filename than markup. You may want to open this file and pass the filehandle into Beautiful Soup.\n",
      "  soup = BeautifulSoup(html_content, \"html.parser\")\n",
      "/Users/aubrey/workspace/langchain-pepwave/langchain_pepwave_env/lib/python3.12/site-packages/langchain_community/document_loaders/recursive_url_loader.py:43: MarkupResemblesLocatorWarning: The input looks more like a filename than markup. You may want to open this file and pass the filehandle into Beautiful Soup.\n",
      "  soup = BeautifulSoup(raw_html, \"html.parser\")\n",
      "/Users/aubrey/.pyenv/versions/3.12.2/lib/python3.12/html/parser.py:171: XMLParsedAsHTMLWarning: It looks like you're parsing an XML document using an HTML parser. If this really is an HTML document (maybe it's XHTML?), you can ignore or filter this warning. If it's XML, you should know that using an XML parser will be more reliable. To parse this document as XML, make sure you have the lxml package installed, and pass the keyword argument `features=\"xml\"` into the BeautifulSoup constructor.\n",
      "  k = self.parse_starttag(i)\n"
     ]
    },
    {
     "name": "stdout",
     "output_type": "stream",
     "text": [
      "Ended stream for ldoc_peplink_com\n"
     ]
    }
   ],
   "execution_count": 13
  }
 ],
 "metadata": {
  "kernelspec": {
   "display_name": "Python 3 (ipykernel)",
   "language": "python",
   "name": "python3"
  },
  "language_info": {
   "codemirror_mode": {
    "name": "ipython",
    "version": 3
   },
   "file_extension": ".py",
   "mimetype": "text/x-python",
   "name": "python",
   "nbconvert_exporter": "python",
   "pygments_lexer": "ipython3",
   "version": "3.12.2"
  }
 },
 "nbformat": 5,
 "nbformat_minor": 9
}
