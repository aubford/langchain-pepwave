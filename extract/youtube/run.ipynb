{
 "cells": [
  {
   "metadata": {
    "ExecuteTime": {
     "end_time": "2024-12-17T03:12:18.701363Z",
     "start_time": "2024-12-17T03:12:18.180421Z"
    }
   },
   "cell_type": "code",
   "source": [
    "from babel.messages.jslexer import uni_escape_re\n",
    "\n",
    "from extract.extractor_manager import ExtractorManager\n",
    "from extract.youtube.youtube_channel_extractor import YouTubeChannelExtractor\n",
    "from extract.youtube.youtube_videos_extractor import YouTubePlaylistExtractor, YouTubeVideosExtractor\n",
    "\n",
    "\n",
    "class YouTubeExtractorManager(ExtractorManager):\n",
    "    def __init__(self, channels):\n",
    "        super().__init__([YouTubeChannelExtractor(channel) for channel in channels])\n",
    "\n"
   ],
   "id": "e6a74b71f0bbeba1",
   "outputs": [],
   "execution_count": 1
  },
  {
   "metadata": {
    "ExecuteTime": {
     "end_time": "2024-12-17T03:14:34.857007Z",
     "start_time": "2024-12-17T03:12:22.936003Z"
    }
   },
   "cell_type": "code",
   "source": [
    "\n",
    "# ['@NetworkDirection', '@MobileInternetResourceCenter', '@Frontierus', '@MobileMustHave', '@Technorv', '@Peplink', '@5Gstore']\n",
    "manager = YouTubeExtractorManager(['@NetworkDirection', '@WestNetworksLLC'])\n",
    "manager.fetch_all()  # done 12/16\n"
   ],
   "id": "c271f351b6266069",
   "outputs": [
    {
     "name": "stdout",
     "output_type": "stream",
     "text": [
      "2024-12-16 22:12:23,354 - youtube_NetworkDirection - INFO - Started stream for video_item_NetworkDirection:\n",
      "Raw: data/youtube/raw/youtube_video_item_NetworkDirection__T_20241216_221223.jsonl\n",
      "2024-12-16 22:12:26,846 - youtube_NetworkDirection - ERROR - Could not load transcript for video ScunjC6UXL0: \n",
      "Could not retrieve a transcript for the video https://www.youtube.com/watch?v=ScunjC6UXL0! This is most likely caused by:\n",
      "\n",
      "No transcripts were found for any of the requested language codes: ['en']\n",
      "\n",
      "For this video (ScunjC6UXL0) transcripts are available in the following languages:\n",
      "\n",
      "(MANUALLY CREATED\n",
      "2024-12-16 22:12:27,383 - youtube_NetworkDirection - ERROR - Could not load transcript for video Jq0fE73rfHs: \n",
      "Could not retrieve a transcript for the video https://www.youtube.com/watch?v=Jq0fE73rfHs! This is most likely caused by:\n",
      "\n",
      "No transcripts were found for any of the requested language codes: ['en']\n",
      "\n",
      "For this video (Jq0fE73rfHs) transcripts are available in the following languages:\n",
      "\n",
      "(MANUALLY CREATED\n",
      "2024-12-16 22:12:28,525 - youtube_NetworkDirection - ERROR - Could not load transcript for video 0SSKxJNjGew: \n",
      "Could not retrieve a transcript for the video https://www.youtube.com/watch?v=0SSKxJNjGew! This is most likely caused by:\n",
      "\n",
      "No transcripts were found for any of the requested language codes: ['en']\n",
      "\n",
      "For this video (0SSKxJNjGew) transcripts are available in the following languages:\n",
      "\n",
      "(MANUALLY CREATED\n",
      "2024-12-16 22:12:33,252 - youtube_NetworkDirection - ERROR - Could not load transcript for video B8-LEyd-rBU: \n",
      "Could not retrieve a transcript for the video https://www.youtube.com/watch?v=B8-LEyd-rBU! This is most likely caused by:\n",
      "\n",
      "No transcripts were found for any of the requested language codes: ['en']\n",
      "\n",
      "For this video (B8-LEyd-rBU) transcripts are available in the following languages:\n",
      "\n",
      "(MANUALLY CREATED\n",
      "2024-12-16 22:12:33,766 - youtube_NetworkDirection - ERROR - Could not load transcript for video cifAlNhJTy0: \n",
      "Could not retrieve a transcript for the video https://www.youtube.com/watch?v=cifAlNhJTy0! This is most likely caused by:\n",
      "\n",
      "No transcripts were found for any of the requested language codes: ['en']\n",
      "\n",
      "For this video (cifAlNhJTy0) transcripts are available in the following languages:\n",
      "\n",
      "(MANUALLY CREATED\n",
      "2024-12-16 22:12:34,233 - youtube_NetworkDirection - ERROR - Could not load transcript for video gzVTddVX3KI: \n",
      "Could not retrieve a transcript for the video https://www.youtube.com/watch?v=gzVTddVX3KI! This is most likely caused by:\n",
      "\n",
      "No transcripts were found for any of the requested language codes: ['en']\n",
      "\n",
      "For this video (gzVTddVX3KI) transcripts are available in the following languages:\n",
      "\n",
      "(MANUALLY CREATED\n",
      "2024-12-16 22:12:34,764 - youtube_NetworkDirection - ERROR - Could not load transcript for video GOVDyjXqbW0: \n",
      "Could not retrieve a transcript for the video https://www.youtube.com/watch?v=GOVDyjXqbW0! This is most likely caused by:\n",
      "\n",
      "No transcripts were found for any of the requested language codes: ['en']\n",
      "\n",
      "For this video (GOVDyjXqbW0) transcripts are available in the following languages:\n",
      "\n",
      "(MANUALLY CREATED\n",
      "Ended stream for video_item_NetworkDirection\n",
      "2024-12-16 22:12:40,255 - youtube_WestNetworksLLC - INFO - Started stream for video_item_WestNetworksLLC:\n",
      "Raw: data/youtube/raw/youtube_video_item_WestNetworksLLC__T_20241216_221240.jsonl\n",
      "2024-12-16 22:14:32,293 - youtube_WestNetworksLLC - ERROR - Could not load transcript for video gJaU1oqsqLs: \n",
      "Could not retrieve a transcript for the video https://www.youtube.com/watch?v=gJaU1oqsqLs! This is most likely caused by:\n",
      "\n",
      "No transcripts were found for any of the requested language codes: ['en']\n",
      "\n",
      "For this video (gJaU1oqsqLs) transcripts are available in the following languages:\n",
      "\n",
      "(MANUALLY CREATED\n",
      "Ended stream for video_item_WestNetworksLLC\n"
     ]
    }
   ],
   "execution_count": 2
  },
  {
   "metadata": {
    "ExecuteTime": {
     "end_time": "2024-12-17T03:24:25.116826Z",
     "start_time": "2024-12-17T03:24:19.660291Z"
    }
   },
   "cell_type": "code",
   "source": [
    "\n",
    "extra_extractors = YouTubeVideosExtractor(\"extra_videos\",\n",
    "                                          video_ids=['0PbTi_Prpgs', '_IOZ8_cPgu8', 'oHQvWa6J8dU', 'k9ZigsW9il0',\n",
    "                                               '0j6-QFnnwQk'])\n",
    "extra_extractors.extract() # done 12/16\n"
   ],
   "id": "49642b3a0fb96dac",
   "outputs": [
    {
     "name": "stdout",
     "output_type": "stream",
     "text": [
      "2024-12-16 22:24:19,663 - youtube_extra_videos - INFO - Started stream for video_item_extra_videos:\n",
      "Raw: data/youtube/raw/youtube_video_item_extra_videos__T_20241216_222419.jsonl\n",
      "2024-12-16 22:24:22,059 - youtube_extra_videos - ERROR - Could not load transcript for video _IOZ8_cPgu8: \n",
      "Could not retrieve a transcript for the video https://www.youtube.com/watch?v=_IOZ8_cPgu8! This is most likely caused by:\n",
      "\n",
      "No transcripts were found for any of the requested language codes: ['en']\n",
      "\n",
      "For this video (_IOZ8_cPgu8) transcripts are available in the following languages:\n",
      "\n",
      "(MANUALLY CREATED\n",
      "Ended stream for video_item_extra_videos\n"
     ]
    }
   ],
   "execution_count": 3
  },
  {
   "metadata": {
    "ExecuteTime": {
     "end_time": "2024-12-17T03:26:20.865689Z",
     "start_time": "2024-12-17T03:26:12.432239Z"
    }
   },
   "cell_type": "code",
   "source": [
    "\n",
    "training_extractors = YouTubeVideosExtractor(\"peplink_training_videos\",\n",
    "                                          video_ids=['mZAr7Z7eL48', 'GLtjyS4ELAA', 'Ny5z_4Pjz6c', 'Ow8sdUEb_eg',\n",
    "                                               'KiFrxH46qM0', 'J1Jcgce7zrQ', 'iNwVqhp2QtY', 'GLtjyS4ELAA',\n",
    "                                               'fsB5MqE7uOU', '1vvm0JiEwww', '-ILspN9YRsY'])\n",
    "training_extractors.extract() # done 12/16\n"
   ],
   "id": "cd19087182c2f060",
   "outputs": [
    {
     "name": "stdout",
     "output_type": "stream",
     "text": [
      "2024-12-16 22:26:12,436 - youtube_peplink_training_videos - INFO - Started stream for video_item_peplink_training_videos:\n",
      "Raw: data/youtube/raw/youtube_video_item_peplink_training_videos__T_20241216_222612.jsonl\n",
      "Ended stream for video_item_peplink_training_videos\n"
     ]
    }
   ],
   "execution_count": 4
  },
  {
   "metadata": {
    "ExecuteTime": {
     "end_time": "2024-12-17T03:28:28.491057Z",
     "start_time": "2024-12-17T03:27:44.524899Z"
    }
   },
   "cell_type": "code",
   "source": [
    "\n",
    "uni_extractors = YouTubePlaylistExtractor(\"west_peplink_university_playlist\", playlist_id='PLT8XvvJf-9vgah5id_2tW6GvSCOmV62h6')\n",
    "uni_extractors.extract() # done 12/16\n"
   ],
   "id": "e026174e86b1be96",
   "outputs": [
    {
     "name": "stdout",
     "output_type": "stream",
     "text": [
      "2024-12-16 22:27:44,530 - youtube_west_peplink_university_playlist - INFO - Started stream for video_item_west_peplink_university_playlist:\n",
      "Raw: data/youtube/raw/youtube_video_item_west_peplink_university_playlist__T_20241216_222744.jsonl\n",
      "Ended stream for video_item_west_peplink_university_playlist\n"
     ]
    }
   ],
   "execution_count": 5
  },
  {
   "metadata": {},
   "cell_type": "code",
   "outputs": [],
   "execution_count": null,
   "source": "",
   "id": "198b217e6b9734fc"
  }
 ],
 "metadata": {
  "kernelspec": {
   "name": "python3",
   "language": "python",
   "display_name": "Python 3 (ipykernel)"
  }
 },
 "nbformat": 5,
 "nbformat_minor": 9
}
