{
 "cells": [
  {
   "cell_type": "code",
   "execution_count": 1,
   "id": "3ae43d6edc83fe50",
   "metadata": {
    "ExecuteTime": {
     "end_time": "2024-12-31T02:14:53.626877Z",
     "start_time": "2024-12-31T02:14:53.379743Z"
    }
   },
   "outputs": [
    {
     "name": "stdout",
     "output_type": "stream",
     "text": [
      "(1339, 7)\n",
      "(4856, 7)\n"
     ]
    }
   ],
   "source": [
    "import pandas as pd\n",
    "from pathlib import Path\n",
    "\n",
    "staging__save_path = Path(\"staging_save.parquet\")\n",
    "staging_path = Path(\"staging.parquet\")\n",
    "df = pd.read_parquet(staging_path)\n",
    "df_save = pd.read_parquet(staging__save_path)\n",
    "unique_sources = df[\"source_file\"].unique()\n",
    "unique_sources_save = df_save[\"source_file\"].unique()\n",
    "\n",
    "print(df.shape)\n",
    "print(df_save.shape)\n"
   ]
  }
 ],
 "metadata": {
  "kernelspec": {
   "display_name": "Python 3 (ipykernel)",
   "language": "python",
   "name": "python3"
  },
  "language_info": {
   "codemirror_mode": {
    "name": "ipython",
    "version": 3
   },
   "file_extension": ".py",
   "mimetype": "text/x-python",
   "name": "python",
   "nbconvert_exporter": "python",
   "pygments_lexer": "ipython3",
   "version": "3.12.2"
  }
 },
 "nbformat": 5,
 "nbformat_minor": 9
}
