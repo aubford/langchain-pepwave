{
 "cells": [
  {
   "metadata": {},
   "cell_type": "code",
   "outputs": [],
   "execution_count": null,
   "source": [
    "from extract.extractor_manager import ExtractorManager\n",
    "from extract.youtube.youtube_channel_extractor import YouTubeChannelExtractor\n",
    "from extract.youtube.youtube_videos_extractor import YouTubePlaylistExtractor, YouTubeVideosExtractor\n",
    "\n",
    "\n",
    "class YouTubeExtractorManager(ExtractorManager):\n",
    "    def __init__(self, channels):\n",
    "        super().__init__([YouTubeChannelExtractor(channel) for channel in channels])\n",
    "\n"
   ],
   "id": "e6a74b71f0bbeba1"
  },
  {
   "metadata": {},
   "cell_type": "code",
   "outputs": [],
   "execution_count": null,
   "source": [
    "\n",
    "# ['@NetworkDirection', '@MobileInternetResourceCenter', '@Frontierus', '@MobileMustHave', '@Technorv', '@Peplink', '@5Gstore']\n",
    "manager = YouTubeExtractorManager(['@NetworkDirection', '@WestNetworksLLC'])\n",
    "manager.fetch_all()\n"
   ],
   "id": "c271f351b6266069"
  },
  {
   "metadata": {},
   "cell_type": "code",
   "outputs": [],
   "execution_count": null,
   "source": [
    "\n",
    "extractors = YouTubeVideosExtractor(\"extra_videos\",\n",
    "                                    video_ids=['0PbTi_Prpgs', '_IOZ8_cPgu8', 'oHQvWa6J8dU', 'k9ZigsW9il0',\n",
    "                                               '0j6-QFnnwQk'])\n",
    "extractors.extract()\n"
   ],
   "id": "49642b3a0fb96dac"
  },
  {
   "metadata": {},
   "cell_type": "code",
   "outputs": [],
   "execution_count": null,
   "source": [
    "\n",
    "extractors = YouTubeVideosExtractor(\"peplink_training_videos\",\n",
    "                                    video_ids=['mZAr7Z7eL48', 'GLtjyS4ELAA', 'Ny5z_4Pjz6c', 'Ow8sdUEb_eg',\n",
    "                                               'KiFrxH46qM0', 'J1Jcgce7zrQ', 'iNwVqhp2QtY', 'GLtjyS4ELAA',\n",
    "                                               'fsB5MqE7uOU', '1vvm0JiEwww', '-ILspN9YRsY'])\n",
    "extractors.extract()\n"
   ],
   "id": "cd19087182c2f060"
  },
  {
   "metadata": {},
   "cell_type": "code",
   "outputs": [],
   "execution_count": null,
   "source": [
    "\n",
    "extractors = YouTubePlaylistExtractor(\"west_peplink_university_playlist\",\n",
    "                                      playlist_id='PLT8XvvJf-9vgah5id_2tW6GvSCOmV62h6')\n",
    "extractors.extract()\n"
   ],
   "id": "e026174e86b1be96"
  },
  {
   "metadata": {},
   "cell_type": "code",
   "outputs": [],
   "execution_count": null,
   "source": "",
   "id": "198b217e6b9734fc"
  }
 ],
 "metadata": {},
 "nbformat": 5,
 "nbformat_minor": 9
}
