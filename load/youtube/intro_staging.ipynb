{
 "cells": [
  {
   "cell_type": "code",
   "id": "3ae43d6edc83fe50",
   "metadata": {
    "ExecuteTime": {
     "end_time": "2024-12-28T16:33:33.584602Z",
     "start_time": "2024-12-28T16:33:33.548159Z"
    }
   },
   "source": [
    "import pandas as pd\n",
    "from pathlib import Path\n",
    "\n",
    "staging_path = Path(\"staging.parquet\")\n",
    "df = pd.read_parquet(staging_path)\n",
    "\n",
    "unique_sources = df[\"source_file\"].unique()\n",
    "mobile_musthaves = df[df[\"source_file\"] == \"youtube_video_item_MobileMustHave__T_20241216_083331.jsonl\"]\n"
   ],
   "outputs": [],
   "execution_count": 4
  },
  {
   "cell_type": "code",
   "id": "20718de0aa2fbc5b",
   "metadata": {
    "ExecuteTime": {
     "end_time": "2024-12-28T16:32:00.733622Z",
     "start_time": "2024-12-28T16:32:00.730234Z"
    }
   },
   "source": [
    "print(\"------------------------------------\")\n",
    "print(\"\\nUnique source files:\")\n",
    "for source in unique_sources:\n",
    "  print(f\"- {source}\")\n",
    "\n",
    "print(\"------------------------------------\")\n",
    "print(f\"Number of records in staging.parquet: {len(df)}\")\n"
   ],
   "outputs": [
    {
     "name": "stdout",
     "output_type": "stream",
     "text": [
      "------------------------------------\n",
      "\n",
      "Unique source files:\n",
      "- youtube_video_item_west_peplink_university_playlist__T_20241216_222744.jsonl\n",
      "- youtube_video_item_WestNetworksLLC__T_20241216_221240.jsonl\n",
      "- youtube_video_item_5Gstore__T_20241216_202131.jsonl\n",
      "- youtube_video_item_Peplink__T_20241216_201833.jsonl\n",
      "- youtube_video_item_Technorv__T_20241216_083620.jsonl\n",
      "- youtube_video_item_MobileInternetResourceCenter__T_20241215_164803.jsonl\n",
      "- youtube_video_item_Frontierus__T_20241215_165731.jsonl\n",
      "- youtube_video_item_MobileMustHave__T_20241216_083331.jsonl\n",
      "- youtube_video_item_extra_videos__T_20241216_222419.jsonl\n",
      "- youtube_video_item_peplink_training_videos__T_20241216_222612.jsonl\n",
      "------------------------------------\n",
      "Number of records in staging.parquet: 15817\n"
     ]
    }
   ],
   "execution_count": 3
  },
  {
   "cell_type": "code",
   "id": "1fbf9c5d494c7b7f",
   "metadata": {
    "ExecuteTime": {
     "end_time": "2024-12-28T16:34:08.846887Z",
     "start_time": "2024-12-28T16:34:08.844171Z"
    }
   },
   "source": "print(len(mobile_musthaves['title'].unique()))\n",
   "outputs": [
    {
     "name": "stdout",
     "output_type": "stream",
     "text": [
      "128\n"
     ]
    }
   ],
   "execution_count": 7
  }
 ],
 "metadata": {
  "kernelspec": {
   "display_name": "Python 3 (ipykernel)",
   "language": "python",
   "name": "python3"
  },
  "language_info": {
   "codemirror_mode": {
    "name": "ipython",
    "version": 3
   },
   "file_extension": ".py",
   "mimetype": "text/x-python",
   "name": "python",
   "nbconvert_exporter": "python",
   "pygments_lexer": "ipython3",
   "version": "3.12.2"
  }
 },
 "nbformat": 5,
 "nbformat_minor": 9
}
