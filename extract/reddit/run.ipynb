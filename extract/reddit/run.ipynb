{
 "cells": [
  {
   "metadata": {},
   "cell_type": "code",
   "outputs": [],
   "execution_count": null,
   "source": "from .reddit_extractor import RedditPostExtractor\n",
   "id": "1046ef9817917259"
  },
  {
   "metadata": {},
   "cell_type": "code",
   "outputs": [],
   "execution_count": null,
   "source": [
    "\n",
    "pep_extractor = RedditPostExtractor('Peplink')\n",
    "pep_extractor.extract()\n"
   ],
   "id": "178d17f1ef4315a3"
  },
  {
   "metadata": {},
   "cell_type": "code",
   "outputs": [],
   "execution_count": null,
   "source": [
    "\n",
    "net_extractor = RedditPostExtractor('networking')\n",
    "net_extractor.extract()\n"
   ],
   "id": "ee4e4591022ce554"
  },
  {
   "metadata": {},
   "cell_type": "code",
   "outputs": [],
   "execution_count": null,
   "source": [
    "\n",
    "sys_extractor = RedditPostExtractor('sysadmin')\n",
    "sys_extractor.extract()\n"
   ],
   "id": "29c75a7af9d9a65b"
  }
 ],
 "metadata": {},
 "nbformat": 5,
 "nbformat_minor": 9
}
