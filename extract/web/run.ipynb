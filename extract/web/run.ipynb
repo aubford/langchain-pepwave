{
 "cells": [
  {
   "cell_type": "markdown",
   "id": "86f2acec",
   "metadata": {},
   "source": [
    "## Martin Langmaid"
   ]
  },
  {
   "cell_type": "code",
   "id": "3837cc10779cb8da",
   "metadata": {
    "ExecuteTime": {
     "end_time": "2024-12-29T00:37:18.491513Z",
     "start_time": "2024-12-29T00:37:17.958927Z"
    }
   },
   "source": [
    "from extract.web.web_extractor import WebsiteExtractor\n",
    "extractor = WebsiteExtractor(\"https://www.martinlangmaid.com/2014/12/15/managing-multiple-wan-links-peplink-routers\")\n",
    "# extractor.extract()\n"
   ],
   "outputs": [],
   "execution_count": 1
  },
  {
   "cell_type": "markdown",
   "id": "06ee8834",
   "metadata": {},
   "source": [
    "### Introspect Result"
   ]
  },
  {
   "cell_type": "code",
   "id": "092bdb82",
   "metadata": {
    "ExecuteTime": {
     "end_time": "2024-12-29T00:37:19.990470Z",
     "start_time": "2024-12-29T00:37:19.497338Z"
    }
   },
   "source": [
    "\n",
    "from util.util import get_dissimilar_content_count\n",
    "\n",
    "dfs = extractor.get_rawfile_dataframes()\n",
    "df = dfs[0][1]\n",
    "\n",
    "get_dissimilar_content_count(df)\n"
   ],
   "outputs": [
    {
     "name": "stdout",
     "output_type": "stream",
     "text": [
      "total entries: 29\n",
      "unique-ish entries: 3\n"
     ]
    },
    {
     "data": {
      "text/plain": [
       "3"
      ]
     },
     "execution_count": 2,
     "metadata": {},
     "output_type": "execute_result"
    }
   ],
   "execution_count": 2
  },
  {
   "cell_type": "markdown",
   "id": "19acb478",
   "metadata": {},
   "source": [
    "## Peplink.com"
   ]
  },
  {
   "cell_type": "code",
   "id": "e3fd47a61cf408dd",
   "metadata": {},
   "source": [
    "extractor = WebsiteExtractor(\"https://www.peplink.com/company/about-us/glossary-and-definitions/\")\n",
    "extractor.extract()\n"
   ],
   "outputs": [],
   "execution_count": null
  },
  {
   "cell_type": "code",
   "id": "2bb91ef23f726532",
   "metadata": {},
   "source": [
    "extractor = WebsiteExtractor(\"https://www.peplink.com/technology/speedfusion-bonding-technology/\")\n",
    "extractor.extract()\n"
   ],
   "outputs": [],
   "execution_count": null
  },
  {
   "cell_type": "code",
   "id": "7a3e6baa7f718218",
   "metadata": {},
   "source": [
    "extractor = WebsiteExtractor(\"https://www.peplink.com/\")\n",
    "extractor.extract()\n"
   ],
   "outputs": [],
   "execution_count": null
  }
 ],
 "metadata": {
  "kernelspec": {
   "display_name": "Python 3 (ipykernel)",
   "language": "python",
   "name": "python3"
  },
  "language_info": {
   "codemirror_mode": {
    "name": "ipython",
    "version": 3
   },
   "file_extension": ".py",
   "mimetype": "text/x-python",
   "name": "python",
   "nbconvert_exporter": "python",
   "pygments_lexer": "ipython3",
   "version": "3.12.2"
  }
 },
 "nbformat": 5,
 "nbformat_minor": 9
}
