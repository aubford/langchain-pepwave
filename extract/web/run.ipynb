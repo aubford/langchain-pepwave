{
 "cells": [
  {
   "cell_type": "code",
   "id": "dd410ed32892ec0b",
   "metadata": {
    "ExecuteTime": {
     "end_time": "2024-12-17T03:44:59.881117Z",
     "start_time": "2024-12-17T03:44:59.338509Z"
    }
   },
   "source": "from web_extractor import WebsiteExtractor\n",
   "outputs": [],
   "execution_count": 1
  },
  {
   "cell_type": "code",
   "id": "3837cc10779cb8da",
   "metadata": {
    "ExecuteTime": {
     "end_time": "2024-12-17T03:55:00.623886Z",
     "start_time": "2024-12-17T03:54:17.795698Z"
    }
   },
   "source": [
    "extractor = WebsiteExtractor(\"https://www.martinlangmaid.com/2014/12/15/managing-multiple-wan-links-peplink-routers\")\n",
    "extractor.extract() # done 12/16\n"
   ],
   "outputs": [
    {
     "name": "stdout",
     "output_type": "stream",
     "text": [
      "2024-12-16 22:54:17,798 - web - INFO - Started stream for ldoc_martinlangmaid_com_2014_12_15_managing_m:\n",
      "Raw: data/web/raw/web_ldoc_martinlangmaid_com_2014_12_15_managing_m__T_20241216_225417.jsonl\n",
      "Ended stream for ldoc_martinlangmaid_com_2014_12_15_managing_m\n"
     ]
    }
   ],
   "execution_count": 3
  },
  {
   "metadata": {
    "ExecuteTime": {
     "end_time": "2024-12-17T03:55:02.835829Z",
     "start_time": "2024-12-17T03:55:00.629042Z"
    }
   },
   "cell_type": "code",
   "source": [
    "extractor = WebsiteExtractor(\"https://www.peplink.com/company/about-us/glossary-and-definitions/\")\n",
    "extractor.extract() # done 12/16\n"
   ],
   "id": "e3fd47a61cf408dd",
   "outputs": [
    {
     "name": "stdout",
     "output_type": "stream",
     "text": [
      "2024-12-16 22:55:00,630 - web - INFO - Started stream for ldoc_peplink_com_company_about_us_glossary_an:\n",
      "Raw: data/web/raw/web_ldoc_peplink_com_company_about_us_glossary_an__T_20241216_225500.jsonl\n",
      "Ended stream for ldoc_peplink_com_company_about_us_glossary_an\n"
     ]
    }
   ],
   "execution_count": 4
  },
  {
   "metadata": {
    "ExecuteTime": {
     "end_time": "2024-12-17T03:56:09.152362Z",
     "start_time": "2024-12-17T03:56:07.987952Z"
    }
   },
   "cell_type": "code",
   "source": [
    "extractor = WebsiteExtractor(\"https://www.peplink.com/technology/speedfusion-bonding-technology/\")\n",
    "extractor.extract()\n"
   ],
   "id": "2bb91ef23f726532",
   "outputs": [
    {
     "name": "stdout",
     "output_type": "stream",
     "text": [
      "2024-12-16 22:56:07,990 - web - INFO - Started stream for ldoc_peplink_com_technology_speedfusion_bondi:\n",
      "Raw: data/web/raw/web_ldoc_peplink_com_technology_speedfusion_bondi__T_20241216_225607.jsonl\n",
      "Ended stream for ldoc_peplink_com_technology_speedfusion_bondi\n"
     ]
    }
   ],
   "execution_count": 5
  },
  {
   "cell_type": "code",
   "id": "7a3e6baa7f718218",
   "metadata": {
    "ExecuteTime": {
     "end_time": "2024-12-17T03:53:20.671506Z",
     "start_time": "2024-12-17T03:45:02.173837Z"
    }
   },
   "source": [
    "extractor = WebsiteExtractor(\"https://www.peplink.com/\")\n",
    "extractor.extract() # done 12/16\n"
   ],
   "outputs": [
    {
     "name": "stdout",
     "output_type": "stream",
     "text": [
      "2024-12-16 22:45:02,176 - web - INFO - Started stream for ldoc_peplink_com:\n",
      "Raw: data/web/raw/web_ldoc_peplink_com__T_20241216_224502.jsonl\n"
     ]
    },
    {
     "name": "stderr",
     "output_type": "stream",
     "text": [
      "/Users/aubrey/workspace/langchain-pepwave/extract/website/website_extractor.py:32: MarkupResemblesLocatorWarning: The input looks more like a filename than markup. You may want to open this file and pass the filehandle into Beautiful Soup.\n",
      "  soup = BeautifulSoup(html_content, 'html.parser')\n",
      "/Users/aubrey/workspace/langchain-pepwave/langchain_pepwave_env/lib/python3.12/site-packages/langchain_community/document_loaders/recursive_url_loader.py:43: MarkupResemblesLocatorWarning: The input looks more like a filename than markup. You may want to open this file and pass the filehandle into Beautiful Soup.\n",
      "  soup = BeautifulSoup(raw_html, \"html.parser\")\n",
      "/Users/aubrey/.pyenv/versions/3.12.2/lib/python3.12/html/parser.py:171: XMLParsedAsHTMLWarning: It looks like you're parsing an XML document using an HTML parser. If this really is an HTML document (maybe it's XHTML?), you can ignore or filter this warning. If it's XML, you should know that using an XML parser will be more reliable. To parse this document as XML, make sure you have the lxml package installed, and pass the keyword argument `features=\"xml\"` into the BeautifulSoup constructor.\n",
      "  k = self.parse_starttag(i)\n"
     ]
    },
    {
     "name": "stdout",
     "output_type": "stream",
     "text": [
      "Ended stream for ldoc_peplink_com\n"
     ]
    }
   ],
   "execution_count": 2
  }
 ],
 "metadata": {
  "kernelspec": {
   "display_name": "Python 3 (ipykernel)",
   "language": "python",
   "name": "python3"
  }
 },
 "nbformat": 5,
 "nbformat_minor": 9
}
