{
 "cells": [
  {
   "cell_type": "code",
   "execution_count": 1,
   "id": "e6a74b71f0bbeba1",
   "metadata": {
    "ExecuteTime": {
     "end_time": "2024-12-29T05:31:58.885204Z",
     "start_time": "2024-12-29T05:31:58.315190Z"
    }
   },
   "outputs": [],
   "source": [
    "from extract.extractor_manager import ExtractorManager\n",
    "from extract.youtube.youtube_channel_extractor import YouTubeChannelExtractor\n",
    "from extract.youtube.youtube_videos_extractor import YouTubePlaylistExtractor, YouTubeVideosExtractor\n",
    "\n",
    "\n",
    "class YouTubeExtractorManager(ExtractorManager):\n",
    "    def __init__(self, channels):\n",
    "        super().__init__([YouTubeChannelExtractor(channel) for channel in channels])\n"
   ]
  },
  {
   "cell_type": "code",
   "execution_count": null,
   "id": "c271f351b6266069",
   "metadata": {},
   "outputs": [],
   "source": [
    "\n",
    "# ['@NetworkDirection', '@WestNetworksLLC', '@MobileInternetResourceCenter', '@Frontierus', '@MobileMustHave', '@Technorv', '@Peplink', '@5Gstore']\n",
    "manager = YouTubeExtractorManager(['@NetworkDirection', '@WestNetworksLLC', '@MobileInternetResourceCenter', '@Frontierus', '@MobileMustHave', '@Technorv', '@Peplink', '@5Gstore'])\n",
    "manager.fetch_all()\n"
   ]
  },
  {
   "cell_type": "markdown",
   "id": "98dcdb10",
   "metadata": {},
   "source": [
    "## Introspect"
   ]
  },
  {
   "cell_type": "code",
   "execution_count": 2,
   "id": "82f17a6a",
   "metadata": {
    "ExecuteTime": {
     "end_time": "2024-12-29T05:32:00.127014Z",
     "start_time": "2024-12-29T05:32:00.060762Z"
    }
   },
   "outputs": [
    {
     "name": "stdout",
     "output_type": "stream",
     "text": [
      "8\n",
      "youtube_video_item_5Gstore__T_20241228_220647.jsonl\n",
      "youtube_video_item_Frontierus__T_20241228_215952.jsonl\n",
      "youtube_video_item_MobileInternetResourceCenter__T_20241228_215109.jsonl\n",
      "youtube_video_item_MobileMustHave__T_20241228_220029.jsonl\n",
      "youtube_video_item_NetworkDirection__T_20241228_213545.jsonl\n",
      "youtube_video_item_Peplink__T_20241228_220434.jsonl\n",
      "youtube_video_item_Technorv__T_20241228_220248.jsonl\n",
      "youtube_video_item_WestNetworksLLC__T_20241228_213820.jsonl\n"
     ]
    }
   ],
   "source": [
    "import pandas as pd\n",
    "from extract.youtube.youtube_channel_extractor import YouTubeChannelExtractor\n",
    "\n",
    "dfs = YouTubeChannelExtractor.get_artifacts()\n",
    "\n",
    "df_names = [df[0] for df in dfs]\n",
    "for name in df_names:\n",
    "    print(name)\n"
   ]
  },
  {
   "cell_type": "code",
   "execution_count": 7,
   "id": "aafdd07e",
   "metadata": {},
   "outputs": [
    {
     "name": "stdout",
     "output_type": "stream",
     "text": [
      "\n",
      "Top row from describe():\n",
      "{'id': '6Q5s8WsR0XY', 'kind': 'youtube#video', 'etag': '1tnuQvjNdmBq_q3WuOwrU5NiToA', 'snippet': {'publishedAt': '2024-09-23T19:16:08Z', 'channelId': 'UCPfPFshSC-rH4IbaClXrWSQ', 'title': 'Inseego MiFi X Pro 5G - Unboxing', 'description': 'Watch as we unbox the Inseego MiFi X Pro 5G and highlight its features. \\n\\nLearn more about the MiFi options available: 5gstore.com/search/mifi\\n\\nConnect with Us:\\nWebsite | https://www.5gstore.com\\nFacebook | https://www.facebook.com/the5Gstore\\nTwitter | https://twitter.com/3GCustomerSvc\\nYouTube | https://www.youtube.com/user/3Gstore\\nInstagram | https://www.instagram.com/the5gstore/\\nLinkedIn | https://www.linkedin.com/company/5gstore/\\nBlog | https://5gstore.com/blog/', 'channelTitle': '5Gstore', 'categoryId': '28', 'liveBroadcastContent': 'none'}, 'contentDetails': {'duration': 'PT3M13S', 'dimension': '2d', 'definition': 'hd', 'caption': 'false', 'licensedContent': False, 'projection': 'rectangular'}, 'status': {'uploadStatus': 'processed', 'privacyStatus': 'public', 'license': 'youtube', 'embeddable': True, 'publicStatsViewable': True, 'madeForKids': False}, 'statistics': {'viewCount': '1288', 'favoriteCount': '0', 'likeCount': '16', 'commentCount': '0'}}\n",
      "\n",
      "Found 1325 rows with empty page_content:\n",
      "     page_content                                           metadata\n",
      "0                  {'id': '6Q5s8WsR0XY', 'kind': 'youtube#video',...\n",
      "1                  {'id': 'Hu6BSFKbd7U', 'kind': 'youtube#video',...\n",
      "2                  {'id': 'sSYQjoc8yYY', 'kind': 'youtube#video',...\n",
      "3                  {'id': 'opijbOzpguw', 'kind': 'youtube#video',...\n",
      "4                  {'id': '6ImIvK_An-0', 'kind': 'youtube#video',...\n",
      "...           ...                                                ...\n",
      "2202               {'id': 'WHrQ_4rUMCE', 'kind': 'youtube#video',...\n",
      "2259               {'id': 'v1cUleID764', 'kind': 'youtube#video',...\n",
      "2277               {'id': 'olBKFWHBiVQ', 'kind': 'youtube#video',...\n",
      "2281               {'id': 'gJaU1oqsqLs', 'kind': 'youtube#video',...\n",
      "2283               {'id': 'Qcb3Zch0u2A', 'kind': 'youtube#video',...\n",
      "\n",
      "[1325 rows x 2 columns]\n"
     ]
    }
   ],
   "source": [
    "\n",
    "df_list = [df[1] for df in dfs]\n",
    "\n",
    "# Merge all dataframes\n",
    "merged_df = pd.concat(df_list, ignore_index=True)\n",
    "\n",
    "print(\"\\nTop row from describe():\")\n",
    "print(merged_df.describe().iloc[2].metadata)\n",
    "\n",
    "# Find rows with empty page_content\n",
    "empty_content = merged_df[merged_df['page_content'] == '']\n",
    "print(f\"\\nFound {len(empty_content)} rows with empty page_content:\")\n",
    "print(empty_content)\n"
   ]
  },
  {
   "cell_type": "markdown",
   "id": "638c8592",
   "metadata": {},
   "source": [
    "# Videos Extractors"
   ]
  },
  {
   "cell_type": "code",
   "execution_count": null,
   "id": "49642b3a0fb96dac",
   "metadata": {},
   "outputs": [],
   "source": [
    "\n",
    "extra_extractors = YouTubeVideosExtractor(\"extra_videos\",\n",
    "                                          video_ids=['0PbTi_Prpgs', '_IOZ8_cPgu8', 'oHQvWa6J8dU', 'k9ZigsW9il0',\n",
    "                                               '0j6-QFnnwQk'])\n",
    "extra_extractors.extract()\n"
   ]
  },
  {
   "cell_type": "code",
   "execution_count": null,
   "id": "cd19087182c2f060",
   "metadata": {},
   "outputs": [],
   "source": [
    "\n",
    "training_extractors = YouTubeVideosExtractor(\"peplink_training_videos\",\n",
    "                                          video_ids=['mZAr7Z7eL48', 'GLtjyS4ELAA', 'Ny5z_4Pjz6c', 'Ow8sdUEb_eg',\n",
    "                                               'KiFrxH46qM0', 'J1Jcgce7zrQ', 'iNwVqhp2QtY', 'GLtjyS4ELAA',\n",
    "                                               'fsB5MqE7uOU', '1vvm0JiEwww', '-ILspN9YRsY'])\n",
    "training_extractors.extract()\n"
   ]
  },
  {
   "cell_type": "code",
   "execution_count": null,
   "id": "e026174e86b1be96",
   "metadata": {},
   "outputs": [],
   "source": [
    "\n",
    "uni_extractors = YouTubePlaylistExtractor(\"west_peplink_university_playlist\", playlist_id='PLT8XvvJf-9vgah5id_2tW6GvSCOmV62h6')\n",
    "uni_extractors.extract()\n"
   ]
  },
  {
   "cell_type": "code",
   "execution_count": null,
   "id": "198b217e6b9734fc",
   "metadata": {},
   "outputs": [],
   "source": []
  }
 ],
 "metadata": {
  "kernelspec": {
   "display_name": "Python 3 (ipykernel)",
   "language": "python",
   "name": "python3"
  },
  "language_info": {
   "codemirror_mode": {
    "name": "ipython",
    "version": 3
   },
   "file_extension": ".py",
   "mimetype": "text/x-python",
   "name": "python",
   "nbconvert_exporter": "python",
   "pygments_lexer": "ipython3",
   "version": "3.12.2"
  }
 },
 "nbformat": 5,
 "nbformat_minor": 9
}
